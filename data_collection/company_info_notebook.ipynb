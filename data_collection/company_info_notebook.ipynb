{
 "cells": [
  {
   "cell_type": "markdown",
   "source": [
    "### Company Information"
   ],
   "metadata": {
    "collapsed": false,
    "pycharm": {
     "name": "#%% md\n"
    }
   }
  },
  {
   "cell_type": "markdown",
   "source": [
    "This is the annotated version of the company info file, where each step is explained in detail.\n",
    "\n",
    "If you wish to see the code with minimal annotation please refer to *company_info_file.py* in this project."
   ],
   "metadata": {
    "collapsed": false,
    "pycharm": {
     "name": "#%% md\n"
    }
   }
  },
  {
   "cell_type": "markdown",
   "source": [
    "First, importing the necessary packages.\n",
    "*part1.creds* is a local directory created to store any API key(s). This file is added to the project's *.gitignore* so the API key(s) are protected. I was generously granted premium access to the API for this project."
   ],
   "metadata": {
    "collapsed": false,
    "pycharm": {
     "name": "#%% md\n"
    }
   }
  },
  {
   "cell_type": "code",
   "execution_count": 1,
   "outputs": [],
   "source": [
    "import pandas as pd\n",
    "import requests\n",
    "from creds import apikeys"
   ],
   "metadata": {
    "collapsed": false,
    "pycharm": {
     "name": "#%%\n"
    }
   }
  },
  {
   "cell_type": "markdown",
   "source": [
    "I am gathering large amounts of data from AlphaVantage.\n",
    "For more information about this API see *alphavantage.co/documentation*.\n",
    "*avkey* stores the API key from AlphaVantage."
   ],
   "metadata": {
    "collapsed": false,
    "pycharm": {
     "name": "#%% md\n"
    }
   }
  },
  {
   "cell_type": "code",
   "execution_count": 48,
   "outputs": [],
   "source": [
    "avkey = apikeys.avkey"
   ],
   "metadata": {
    "collapsed": false,
    "pycharm": {
     "name": "#%%\n"
    }
   }
  },
  {
   "cell_type": "markdown",
   "source": [
    "In *company_info*, I gather the following information about every single company listed on NASDAQ and the New York Stock Exchange (NYSE).\n",
    "\n",
    "- Company overview\n",
    "- Income statements (quarterly)\n",
    "- Balance sheet\n",
    "- Cash Flow\n",
    "- Earnings\n",
    "\n",
    "Through the process of data gathering I will identify what information is useful to the project.\n",
    "\n",
    "Defining functions to call API for each (symbol = stock symbol for individual company):"
   ],
   "metadata": {
    "collapsed": false,
    "pycharm": {
     "name": "#%% md\n"
    }
   }
  },
  {
   "cell_type": "markdown",
   "source": [
    "The Nasdaq website has a comprehensive listing of the securities listed on the NYSE and  NASDAQ exchanges.\n",
    "These lists have been downloaded as .csv files:\n",
    "- *'nasdaq_screener_nasdaq.csv'*\n",
    "- *'nasdaq_screener_nyse.csv'*\n",
    "These have all the ticker symbols required to get the data from AlphaVantage."
   ],
   "metadata": {
    "collapsed": false,
    "pycharm": {
     "name": "#%% md\n"
    }
   }
  },
  {
   "cell_type": "code",
   "execution_count": 40,
   "outputs": [
    {
     "name": "stderr",
     "output_type": "stream",
     "text": [
      "/var/folders/f6/_wzll4lx6db_jqfj8n56h7240000gn/T/ipykernel_22715/4104675052.py:11: SettingWithCopyWarning: \n",
      "A value is trying to be set on a copy of a slice from a DataFrame.\n",
      "Try using .loc[row_indexer,col_indexer] = value instead\n",
      "\n",
      "See the caveats in the documentation: https://pandas.pydata.org/pandas-docs/stable/user_guide/indexing.html#returning-a-view-versus-a-copy\n",
      "  nasdaq_list['common_stock'] =  nasdaq_list.Name.str.contains('Common Stock', case=False)\n"
     ]
    }
   ],
   "source": [
    "# importing nasdaq securities list:\n",
    "nasdaq_full = pd.read_csv('data/nasdaq_screener_all.csv')\n",
    "\n",
    "nasdaq_list = nasdaq_full\n",
    "#we simply want the lists of symbols. Some of these are either holding companies, warrants, or other securities that in effect duplicates,\n",
    "#since this list will be used for the API calls.\n",
    "\n",
    "nasdaq_list['filter_out'] = nasdaq_list.Symbol.str.contains('^', regex = False)\n",
    "nasdaq_list = nasdaq_list[nasdaq_list['filter_out'] == False]\n",
    "#Filter for only common stock. That should return symbols for companies.\n",
    "nasdaq_list['common_stock'] =  nasdaq_list.Name.str.contains('Common Stock', case=False)\n",
    "nasdaq_list = nasdaq_list[nasdaq_list['common_stock'] == True]\n",
    "\n",
    "nasdaq_list\n",
    "\n",
    "nasdaq_list = nasdaq_list[['Symbol', 'Name', 'Sector', 'Industry']]\n",
    "companies_list = nasdaq_list['Symbol']"
   ],
   "metadata": {
    "collapsed": false,
    "pycharm": {
     "name": "#%%\n"
    }
   }
  },
  {
   "cell_type": "code",
   "execution_count": 42,
   "outputs": [
    {
     "data": {
      "text/plain": "['A',\n 'AACI',\n 'AADI',\n 'AAL',\n 'AAME',\n 'AAOI',\n 'AAON',\n 'AAPL',\n 'AAT',\n 'AATC',\n 'AAWW',\n 'ABBV',\n 'ABC',\n 'ABCB',\n 'ABEO',\n 'ABG',\n 'ABIO',\n 'ABM',\n 'ABMD',\n 'ABNB',\n 'ABOS',\n 'ABR',\n 'ABSI',\n 'ABT',\n 'ABVC',\n 'AC',\n 'ACAB',\n 'ACAC',\n 'ACAD',\n 'ACAH',\n 'ACAX',\n 'ACCD',\n 'ACCO',\n 'ACDC',\n 'ACER',\n 'ACET',\n 'ACHC',\n 'ACHR',\n 'ACI',\n 'ACIW',\n 'ACLS',\n 'ACLX',\n 'ACM',\n 'ACMR',\n 'ACNB',\n 'ACNT',\n 'ACON',\n 'ACOR',\n 'ACR',\n 'ACRE',\n 'ACRS',\n 'ACRV',\n 'ACRX',\n 'ACT',\n 'ACTG',\n 'ACU',\n 'ACVA',\n 'ACXP',\n 'ADBE',\n 'ADC',\n 'ADEA',\n 'ADER',\n 'ADES',\n 'ADI',\n 'ADIL',\n 'ADM',\n 'ADMA',\n 'ADMP',\n 'ADN',\n 'ADP',\n 'ADPT',\n 'ADRA',\n 'ADSK',\n 'ADT',\n 'ADTH',\n 'ADTN',\n 'ADTX',\n 'ADUS',\n 'ADV',\n 'ADVM',\n 'AE',\n 'AEAE',\n 'AEE',\n 'AEF',\n 'AEHA',\n 'AEHR',\n 'AEI',\n 'AEIS',\n 'AEL',\n 'AEMD',\n 'AEO',\n 'AEP',\n 'AERC',\n 'AES',\n 'AEY',\n 'AEYE',\n 'AFAC',\n 'AFAQ',\n 'AFBI',\n 'AFCG',\n 'AFG',\n 'AFIB',\n 'AFL',\n 'AFRM',\n 'AGAE',\n 'AGCO',\n 'AGEN',\n 'AGFS',\n 'AGFY',\n 'AGIL',\n 'AGIO',\n 'AGLE',\n 'AGM',\n 'AGNC',\n 'AGR',\n 'AGRX',\n 'AGS',\n 'AGX',\n 'AGYS',\n 'AHCO',\n 'AHH',\n 'AHPI',\n 'AHT',\n 'AIG',\n 'AIKI',\n 'AIM',\n 'AIMC',\n 'AIMD',\n 'AIN',\n 'AINC',\n 'AIP',\n 'AIR',\n 'AIRG',\n 'AIRI',\n 'AIRS',\n 'AIRT',\n 'AIT',\n 'AIV',\n 'AIZ',\n 'AJG',\n 'AJRD',\n 'AJX',\n 'AKAM',\n 'AKBA',\n 'AKLI',\n 'AKR',\n 'AKRO',\n 'AKTS',\n 'AKU',\n 'AKYA',\n 'AL',\n 'ALB',\n 'ALBO',\n 'ALBT',\n 'ALCO',\n 'ALDX',\n 'ALEC',\n 'ALEX',\n 'ALG',\n 'ALGM',\n 'ALGN',\n 'ALGS',\n 'ALGT',\n 'ALHC',\n 'ALIM',\n 'ALK',\n 'ALKT',\n 'ALL',\n 'ALLK',\n 'ALLO',\n 'ALLR',\n 'ALLY',\n 'ALNY',\n 'ALOT',\n 'ALPA',\n 'ALPN',\n 'ALPP',\n 'ALR',\n 'ALRM',\n 'ALRN',\n 'ALRS',\n 'ALSN',\n 'ALT',\n 'ALTO',\n 'ALTR',\n 'ALTU',\n 'ALVR',\n 'ALX',\n 'ALXO',\n 'ALZN',\n 'AM',\n 'AMAL',\n 'AMAO',\n 'AMAT',\n 'AMBC',\n 'AMCI',\n 'AMCX',\n 'AMD',\n 'AMED',\n 'AMEH',\n 'AMG',\n 'AMGN',\n 'AMK',\n 'AMKR',\n 'AMLX',\n 'AMNB',\n 'AMP',\n 'AMPG',\n 'AMPH',\n 'AMPL',\n 'AMPY',\n 'AMR',\n 'AMRC',\n 'AMRK',\n 'AMRS',\n 'AMS',\n 'AMSC',\n 'AMSF',\n 'AMST',\n 'AMSWA',\n 'AMT',\n 'AMTB',\n 'AMTI',\n 'AMTX',\n 'AMV',\n 'AMWD',\n 'AMWL',\n 'AMZN',\n 'AN',\n 'ANAB',\n 'ANDE',\n 'ANEB',\n 'ANF',\n 'ANGI',\n 'ANGN',\n 'ANGO',\n 'ANIK',\n 'ANIX',\n 'ANNX',\n 'ANSS',\n 'ANTX',\n 'ANVS',\n 'ANZU',\n 'AOGO',\n 'AORT',\n 'AOS',\n 'AOUT',\n 'AP',\n 'APA',\n 'APAM',\n 'APCX',\n 'APD',\n 'APDN',\n 'APEI',\n 'APEN',\n 'APGN',\n 'APH',\n 'APLD',\n 'APLS',\n 'APLT',\n 'APMI',\n 'APOG',\n 'APP',\n 'APPF',\n 'APPH',\n 'APPN',\n 'APPS',\n 'APRE',\n 'APRN',\n 'APTX',\n 'APVO',\n 'APYX',\n 'AQB',\n 'AQMS',\n 'AQST',\n 'AQU',\n 'AQUA',\n 'ARAV',\n 'ARAY',\n 'ARBG',\n 'ARC',\n 'ARCB',\n 'ARCC',\n 'ARCH',\n 'ARCK',\n 'ARDS',\n 'ARDX',\n 'ARE',\n 'AREB',\n 'AREC',\n 'ARGU',\n 'ARHS',\n 'ARIZ',\n 'ARKO',\n 'ARKR',\n 'ARL',\n 'ARLO',\n 'ARMP',\n 'AROC',\n 'AROW',\n 'ARQT',\n 'ARRW',\n 'ARRY',\n 'ARTE',\n 'ARTL',\n 'ARTNA',\n 'ARTW',\n 'ARVN',\n 'ARW',\n 'ARWR',\n 'ASAP',\n 'ASAX',\n 'ASB',\n 'ASGN',\n 'ASH',\n 'ASIX',\n 'ASLE',\n 'ASMB',\n 'ASNS',\n 'ASO',\n 'ASPA',\n 'ASPI',\n 'ASPN',\n 'ASPU',\n 'ASRT',\n 'ASRV',\n 'ASTC',\n 'ASTE',\n 'ASTI',\n 'ASTR',\n 'ASTS',\n 'ASUR',\n 'ASXC',\n 'ASYS',\n 'ATCX',\n 'ATEC',\n 'ATER',\n 'ATEX',\n 'ATGE',\n 'ATHA',\n 'ATHX',\n 'ATI',\n 'ATKR',\n 'ATLC',\n 'ATLO',\n 'ATNF',\n 'ATNI',\n 'ATNM',\n 'ATNX',\n 'ATO',\n 'ATOM',\n 'ATOS',\n 'ATR',\n 'ATRA',\n 'ATRC',\n 'ATRI',\n 'ATRO',\n 'ATUS',\n 'ATVI',\n 'ATXI',\n 'ATXS',\n 'AUB',\n 'AUBN',\n 'AUD',\n 'AUGX',\n 'AUID',\n 'AUMN',\n 'AUR',\n 'AURA',\n 'AUUD',\n 'AUVI',\n 'AVA',\n 'AVAC',\n 'AVAH',\n 'AVAV',\n 'AVB',\n 'AVCT',\n 'AVD',\n 'AVDX',\n 'AVEO',\n 'AVGO',\n 'AVGR',\n 'AVHI',\n 'AVID',\n 'AVIR',\n 'AVNS',\n 'AVNT',\n 'AVNW',\n 'AVO',\n 'AVPT',\n 'AVRO',\n 'AVT',\n 'AVTE',\n 'AVTX',\n 'AVXL',\n 'AVY',\n 'AWH',\n 'AWI',\n 'AWK',\n 'AWR',\n 'AWRE',\n 'AWX',\n 'AX',\n 'AXDX',\n 'AXGN',\n 'AXL',\n 'AXLA',\n 'AXNX',\n 'AXON',\n 'AXP',\n 'AXR',\n 'AXSM',\n 'AXTI',\n 'AYRO',\n 'AYTU',\n 'AYX',\n 'AZEK',\n 'AZO',\n 'AZPN',\n 'AZYO',\n 'B',\n 'BA',\n 'BAC',\n 'BACK',\n 'BAFN',\n 'BAH',\n 'BALL',\n 'BANC',\n 'BAND',\n 'BANF',\n 'BANR',\n 'BANX',\n 'BASE',\n 'BATRA',\n 'BATRK',\n 'BAX',\n 'BBBY',\n 'BBCP',\n 'BBDC',\n 'BBGI',\n 'BBIG',\n 'BBIO',\n 'BBLG',\n 'BBSI',\n 'BBW',\n 'BBY',\n 'BC',\n 'BCAB',\n 'BCBP',\n 'BCC',\n 'BCDA',\n 'BCEL',\n 'BCLI',\n 'BCML',\n 'BCO',\n 'BCOR',\n 'BCOV',\n 'BCOW',\n 'BCPC',\n 'BCRX',\n 'BCSF',\n 'BDC',\n 'BDL',\n 'BDN',\n 'BDSX',\n 'BDTX',\n 'BDX',\n 'BEAM',\n 'BEAT',\n 'BECN',\n 'BEEM',\n 'BELFA',\n 'BELFB',\n 'BEN',\n 'BERY',\n 'BFAM',\n 'BFC',\n 'BFH',\n 'BFIN',\n 'BFRI',\n 'BFS',\n 'BFST',\n 'BGCP',\n 'BGFV',\n 'BGRY',\n 'BGS',\n 'BGSF',\n 'BGXX',\n 'BH',\n 'BHAC',\n 'BHB',\n 'BHE',\n 'BHF',\n 'BHLB',\n 'BHR',\n 'BIAF',\n 'BIG',\n 'BIGC',\n 'BIIB',\n 'BIO',\n 'BIOC',\n 'BIOL',\n 'BIOR',\n 'BIRD',\n 'BIVI',\n 'BJ',\n 'BJDX',\n 'BJRI',\n 'BK',\n 'BKCC',\n 'BKD',\n 'BKE',\n 'BKH',\n 'BKKT',\n 'BKNG',\n 'BKR',\n 'BKSC',\n 'BKTI',\n 'BKU',\n 'BKYI',\n 'BL',\n 'BLBD',\n 'BLBX',\n 'BLCM',\n 'BLD',\n 'BLDE',\n 'BLDR',\n 'BLFS',\n 'BLFY',\n 'BLI',\n 'BLIN',\n 'BLK',\n 'BLKB',\n 'BLMN',\n 'BLNG',\n 'BLNK',\n 'BLPH',\n 'BLTS',\n 'BLUE',\n 'BLZE',\n 'BMAQ',\n 'BMBL',\n 'BMEA',\n 'BMI',\n 'BMRA',\n 'BMRC',\n 'BMRN',\n 'BMY',\n 'BNED',\n 'BNFT',\n 'BNGO',\n 'BNIX',\n 'BNL',\n 'BNNR',\n 'BNTC',\n 'BOC',\n 'BODY',\n 'BOH',\n 'BOKF',\n 'BOLT',\n 'BOOM',\n 'BOOT',\n 'BOTJ',\n 'BOWL',\n 'BOX',\n 'BOXL',\n 'BPMC',\n 'BPOP',\n 'BPRN',\n 'BPT',\n 'BPTH',\n 'BR',\n 'BRAC',\n 'BRBR',\n 'BRC',\n 'BREZ',\n 'BRFH',\n 'BRID',\n 'BRIV',\n 'BRKH',\n 'BRKL',\n 'BRKR',\n 'BRLT',\n 'BRMK',\n 'BRN',\n 'BRO',\n 'BRP',\n 'BRT',\n 'BRTX',\n 'BRY',\n 'BRZE',\n 'BSBK',\n 'BSET',\n 'BSFC',\n 'BSGM',\n 'BSKY',\n 'BSQR',\n 'BSRR',\n 'BSVN',\n 'BSX',\n 'BSY',\n 'BTAI',\n 'BTBD',\n 'BTCS',\n 'BTCY',\n 'BTMD',\n 'BTN',\n 'BTO',\n 'BTRS',\n 'BTTX',\n 'BTU',\n 'BUSE',\n 'BV',\n 'BVH',\n 'BVS',\n 'BW',\n 'BWA',\n 'BWAC',\n 'BWB',\n 'BWEN',\n 'BWFG',\n 'BWMN',\n 'BWV',\n 'BWXT',\n 'BX',\n 'BXC',\n 'BXMT',\n 'BXP',\n 'BXRX',\n 'BY',\n 'BYD',\n 'BYFC',\n 'BYND',\n 'BYRN',\n 'BZFD',\n 'BZH',\n 'C',\n 'CABA',\n 'CABO',\n 'CAC',\n 'CACC',\n 'CACI',\n 'CADE',\n 'CADL',\n 'CAF',\n 'CAG',\n 'CAH',\n 'CAKE',\n 'CAL',\n 'CALA',\n 'CALB',\n 'CALM',\n 'CALX',\n 'CAMP',\n 'CAPR',\n 'CAR',\n 'CARA',\n 'CARE',\n 'CARG',\n 'CARV',\n 'CASA',\n 'CASH',\n 'CASI',\n 'CASS',\n 'CASY',\n 'CAT',\n 'CATC',\n 'CATO',\n 'CATY',\n 'CBAN',\n 'CBAY',\n 'CBFV',\n 'CBIO',\n 'CBL',\n 'CBNK',\n 'CBRE',\n 'CBRL',\n 'CBSH',\n 'CBT',\n 'CBU',\n 'CBZ',\n 'CC',\n 'CCAI',\n 'CCAP',\n 'CCB',\n 'CCBG',\n 'CCCC',\n 'CCCS',\n 'CCD',\n 'CCEL',\n 'CCF',\n 'CCI',\n 'CCL',\n 'CCNE',\n 'CCO',\n 'CCRD',\n 'CCRN',\n 'CCS',\n 'CCSI',\n 'CDAK',\n 'CDAY',\n 'CDE',\n 'CDIO',\n 'CDLX',\n 'CDMO',\n 'CDNA',\n 'CDNS',\n 'CDTX',\n 'CDW',\n 'CDXC',\n 'CDXS',\n 'CDZI',\n 'CE',\n 'CEAD',\n 'CECO',\n 'CEE',\n 'CEG',\n 'CEI',\n 'CELC',\n 'CELH',\n 'CELU',\n 'CELZ',\n 'CEM',\n 'CEMI',\n 'CENT',\n 'CENTA',\n 'CENX',\n 'CERE',\n 'CERS',\n 'CERT',\n 'CET',\n 'CETX',\n 'CEVA',\n 'CF',\n 'CFB',\n 'CFBK',\n 'CFFE',\n 'CFFI',\n 'CFFN',\n 'CFFS',\n 'CFG',\n 'CFIV',\n 'CFLT',\n 'CFMS',\n 'CFR',\n 'CFRX',\n 'CFSB',\n 'CG',\n 'CGBD',\n 'CGEM',\n 'CGNX',\n 'CGO',\n 'CGRN',\n 'CGTX',\n 'CHCI',\n 'CHCO',\n 'CHCT',\n 'CHD',\n 'CHDN',\n 'CHEF',\n 'CHH',\n 'CHI',\n 'CHK',\n 'CHMG',\n 'CHN',\n 'CHPT',\n 'CHRA',\n 'CHRD',\n 'CHRS',\n 'CHRW',\n 'CHS',\n 'CHTR',\n 'CHUY',\n 'CHW',\n 'CHX',\n 'CHY',\n 'CI',\n 'CIA',\n 'CIDM',\n 'CIEN',\n 'CIF',\n 'CIFR',\n 'CIIG',\n 'CIK',\n 'CIM',\n 'CINC',\n 'CINF',\n 'CING',\n 'CIR',\n 'CISO',\n 'CIVB',\n 'CIVI',\n 'CIX',\n 'CIZN',\n 'CKPT',\n 'CKX',\n 'CL',\n 'CLAR',\n 'CLBK',\n 'CLF',\n 'CLFD',\n 'CLH',\n 'CLIN',\n 'CLIR',\n 'CLM',\n 'CLMB',\n 'CLNE',\n 'CLNN',\n 'CLOE',\n 'CLOV',\n 'CLPR',\n 'CLPT',\n 'CLRB',\n 'CLRM',\n 'CLRO',\n 'CLSD',\n 'CLSK',\n 'CLST',\n 'CLVS',\n 'CLW',\n 'CLX',\n 'CLXT',\n 'CMA',\n 'CMAX',\n 'CMC',\n 'CMCO',\n 'CMCSA',\n 'CMCT',\n 'CME',\n 'CMG',\n 'CMI',\n 'CMLS',\n 'CMP',\n 'CMPO',\n 'CMPX',\n 'CMRA',\n 'CMRX',\n 'CMS',\n 'CMT',\n 'CMTL',\n 'CMU',\n 'CNA',\n 'CNC',\n 'CNCE',\n 'CNDT',\n 'CNFR',\n 'CNGL',\n 'CNK',\n 'CNMD',\n 'CNNB',\n 'CNO',\n 'CNOB',\n 'CNP',\n 'CNS',\n 'CNSL',\n 'CNSP',\n 'CNTX',\n 'CNTY',\n 'CNX',\n 'CNXA',\n 'CNXC',\n 'CNXN',\n 'COCO',\n 'COCP',\n 'CODA',\n 'CODX',\n 'COEP',\n 'COF',\n 'COFS',\n 'COGT',\n 'COHR',\n 'COHU',\n 'COIN',\n 'COKE',\n 'COLB',\n 'COLD',\n 'COLI',\n 'COLL',\n 'COLM',\n 'COMM',\n 'COMS',\n 'CONN',\n 'CONX',\n 'COO',\n 'COOP',\n 'COP',\n 'CORR',\n 'CORT',\n 'CORZ',\n 'COSM',\n 'COST',\n 'COTY',\n 'COUP',\n 'COWN',\n 'CPAA',\n 'CPB',\n 'CPE',\n 'CPHC',\n 'CPIX',\n 'CPK',\n 'CPRT',\n 'CPRX',\n 'CPS',\n 'CPSH',\n 'CPSI',\n 'CPSS',\n 'CPT',\n 'CPTN',\n 'CPZ',\n 'CR',\n 'CRAI',\n 'CRBP',\n 'CRBU',\n 'CRCT',\n 'CRDF',\n 'CREX',\n 'CRF',\n 'CRGE',\n 'CRI',\n 'CRIS',\n 'CRK',\n 'CRKN',\n 'CRL',\n 'CRM',\n 'CRMD',\n 'CRMT',\n 'CRNC',\n 'CRNX',\n 'CROX',\n 'CRS',\n 'CRSR',\n 'CRT',\n 'CRUS',\n 'CRVL',\n 'CRVS',\n 'CRWD',\n 'CRWS',\n 'CSBR',\n 'CSCO',\n 'CSGP',\n 'CSGS',\n 'CSII',\n 'CSL',\n 'CSPI',\n 'CSQ',\n 'CSR',\n 'CSSE',\n 'CSTL',\n 'CSTR',\n 'CSV',\n 'CSWC',\n 'CSWI',\n 'CSX',\n 'CTAQ',\n 'CTAS',\n 'CTBI',\n 'CTG',\n 'CTHR',\n 'CTIB',\n 'CTIC',\n 'CTKB',\n 'CTLP',\n 'CTLT',\n 'CTMX',\n 'CTO',\n 'CTR',\n 'CTRA',\n 'CTRE',\n 'CTRN',\n 'CTS',\n 'CTSH',\n 'CTSO',\n 'CTXR',\n 'CUBA',\n 'CUBI',\n 'CUE',\n 'CUEN',\n 'CULL',\n 'CULP',\n 'CURI',\n 'CUTR',\n 'CUZ',\n 'CVBF',\n 'CVCO',\n 'CVCY',\n 'CVGI',\n 'CVGW',\n 'CVI',\n 'CVLG',\n 'CVLT',\n 'CVLY',\n 'CVM',\n 'CVNA',\n 'CVR',\n 'CVRX',\n 'CVS',\n 'CVT',\n 'CVU',\n 'CVV',\n 'CVX',\n ...]"
     },
     "execution_count": 42,
     "metadata": {},
     "output_type": "execute_result"
    }
   ],
   "source": [
    "companies_list = list(companies_list)\n",
    "companies_list"
   ],
   "metadata": {
    "collapsed": false,
    "pycharm": {
     "name": "#%%\n"
    }
   }
  },
  {
   "cell_type": "code",
   "execution_count": 45,
   "outputs": [],
   "source": [
    "#COMPANY OVERVIEW\n",
    "def get_overview(symbol,apikey):\n",
    "    url = f\"https://www.alphavantage.co/query?function=OVERVIEW&symbol={symbol}&apikey={apikey}\"\n",
    "    r = requests.get(url)\n",
    "    return r.json()\n",
    "#INCOME STATEMENTS\n",
    "def get_income_statement(symbol,apikey):\n",
    "    url = f\"https://www.alphavantage.co/query?function=INCOME_STATEMENT&symbol={symbol}&apikey={apikey}\"\n",
    "    r = requests.get(url)\n",
    "    return r.json()\n",
    "#BALANCE SHEETS\n",
    "def get_balance_sheet(symbol,apikey):\n",
    "    url = f\"https://www.alphavantage.co/query?function=BALANCE_SHEET&symbol={symbol}&apikey={apikey}\"\n",
    "    r = requests.get(url)\n",
    "    return r.json()\n",
    "#CASH FLOW\n",
    "def get_cash_flow(symbol,apikey):\n",
    "    url = f\"https://www.alphavantage.co/query?function=CASH_FLOW&symbol={symbol}&apikey={apikey}\"\n",
    "    r = requests.get(url)\n",
    "    return r.json()\n",
    "#EARNINGS\n",
    "def get_earnings(symbol,apikey):\n",
    "    url = f\"https://www.alphavantage.co/query?function=EARNINGS&symbol={symbol}&apikey={apikey}\"\n",
    "    r = requests.get(url)\n",
    "    return r.json()\n",
    "\n"
   ],
   "metadata": {
    "collapsed": false,
    "pycharm": {
     "name": "#%%\n"
    }
   }
  },
  {
   "cell_type": "markdown",
   "source": [
    "All the data I'm gathering here comes in JSON format. I will write code to reformat the data to get the format I want.\n",
    "\n",
    "Before gathering data on all the companies, I'll test my code on a single company, *Eversource Energy (ES)* to figure out how it works and to work with the JSON files, which are often nested. The code from this process will be used to get data from the other companies."
   ],
   "metadata": {
    "collapsed": false,
    "pycharm": {
     "name": "#%% md\n"
    }
   }
  },
  {
   "cell_type": "code",
   "execution_count": 72,
   "outputs": [
    {
     "data": {
      "text/plain": "'A'"
     },
     "execution_count": 72,
     "metadata": {},
     "output_type": "execute_result"
    }
   ],
   "source": [
    "test = companies_list[0]\n",
    "test"
   ],
   "metadata": {
    "collapsed": false,
    "pycharm": {
     "name": "#%%\n"
    }
   }
  },
  {
   "cell_type": "markdown",
   "source": [
    "Company Overview:"
   ],
   "metadata": {
    "collapsed": false,
    "pycharm": {
     "name": "#%% md\n"
    }
   }
  },
  {
   "cell_type": "code",
   "execution_count": 73,
   "outputs": [],
   "source": [
    "overview_json_test = get_overview(test, avkey)"
   ],
   "metadata": {
    "collapsed": false,
    "pycharm": {
     "name": "#%%\n"
    }
   }
  },
  {
   "cell_type": "code",
   "execution_count": 74,
   "outputs": [
    {
     "name": "stdout",
     "output_type": "stream",
     "text": [
      "{'Symbol': 'A', 'AssetType': 'Common Stock', 'Name': 'Agilent Technologies Inc', 'Description': 'Agilent Technologies, Inc. is an American analytical instrumentation development and manufacturing company that offers its products and services to markets worldwide. Its global headquarters is located in Santa Clara, California.', 'CIK': '1090872', 'Exchange': 'NYSE', 'Currency': 'USD', 'Country': 'USA', 'Sector': 'LIFE SCIENCES', 'Industry': 'INSTRUMENTS FOR MEAS & TESTING OF ELECTRICITY & ELEC SIGNALS', 'Address': '5301 STEVENS CREEK BLVD, SANTA CLARA, CA, US', 'FiscalYearEnd': 'October', 'LatestQuarter': '2022-10-31', 'MarketCapitalization': '45922650000', 'EBITDA': '1935000000', 'PERatio': '34.8', 'PEGRatio': '2.301', 'BookValue': '17.93', 'DividendPerShare': '0.84', 'DividendYield': '0.006', 'EPS': '4.179', 'RevenuePerShareTTM': '22.9', 'ProfitMargin': '0.183', 'OperatingMarginTTM': '0.236', 'ReturnOnAssetsTTM': '0.0953', 'ReturnOnEquityTTM': '23.49', 'RevenueTTM': '6848000000', 'GrossProfitTTM': '3722000000', 'DilutedEPSTTM': '4.18', 'QuarterlyEarningsGrowthYOY': '-0.151', 'QuarterlyRevenueGrowthYOY': '0.114', 'AnalystTargetPrice': '160', 'TrailingPE': '37.24', 'ForwardPE': '26.25', 'PriceToSalesRatioTTM': '6.71', 'PriceToBookRatio': '8.42', 'EVToRevenue': '6.98', 'EVToEBITDA': '25.08', 'Beta': '1.061', '52WeekHigh': '161.59', '52WeekLow': '112.13', '50DayMovingAverage': '137.07', '200DayMovingAverage': '129.8', 'SharesOutstanding': '295000000', 'DividendDate': '2023-01-25', 'ExDividendDate': '2022-12-30'}\n"
     ]
    }
   ],
   "source": [
    "#JSON output looks like this:\n",
    "print(overview_json_test)"
   ],
   "metadata": {
    "collapsed": false,
    "pycharm": {
     "name": "#%%\n"
    }
   }
  },
  {
   "cell_type": "code",
   "execution_count": 93,
   "outputs": [
    {
     "data": {
      "text/plain": "['Symbol',\n 'AssetType',\n 'Name',\n 'Description',\n 'CIK',\n 'Exchange',\n 'Currency',\n 'Country',\n 'Sector',\n 'Industry',\n 'Address',\n 'FiscalYearEnd',\n 'LatestQuarter',\n 'MarketCapitalization',\n 'EBITDA',\n 'PERatio',\n 'PEGRatio',\n 'BookValue',\n 'DividendPerShare',\n 'DividendYield',\n 'EPS',\n 'RevenuePerShareTTM',\n 'ProfitMargin',\n 'OperatingMarginTTM',\n 'ReturnOnAssetsTTM',\n 'ReturnOnEquityTTM',\n 'RevenueTTM',\n 'GrossProfitTTM',\n 'DilutedEPSTTM',\n 'QuarterlyEarningsGrowthYOY',\n 'QuarterlyRevenueGrowthYOY',\n 'AnalystTargetPrice',\n 'TrailingPE',\n 'ForwardPE',\n 'PriceToSalesRatioTTM',\n 'PriceToBookRatio',\n 'EVToRevenue',\n 'EVToEBITDA',\n 'Beta',\n '52WeekHigh',\n '52WeekLow',\n '50DayMovingAverage',\n '200DayMovingAverage',\n 'SharesOutstanding',\n 'DividendDate',\n 'ExDividendDate']"
     },
     "execution_count": 93,
     "metadata": {},
     "output_type": "execute_result"
    }
   ],
   "source": [
    "def clean_overview(json_file):\n",
    "    overview = pd.json_normalize(json_file, max_level=0)\n",
    "    return overview\n",
    "\n",
    "overview1 = clean_overview(overview_json_test)\n",
    "overview_columns = overview1.columns.tolist()\n",
    "overview_columns"
   ],
   "metadata": {
    "collapsed": false,
    "pycharm": {
     "name": "#%%\n"
    }
   }
  },
  {
   "cell_type": "code",
   "execution_count": 76,
   "outputs": [],
   "source": [
    "income_json_test = get_income_statement(test,avkey)"
   ],
   "metadata": {
    "collapsed": false,
    "pycharm": {
     "name": "#%%\n"
    }
   }
  },
  {
   "cell_type": "code",
   "execution_count": 77,
   "outputs": [
    {
     "name": "stdout",
     "output_type": "stream",
     "text": [
      "{'symbol': 'A', 'annualReports': [{'fiscalDateEnding': '2021-10-31', 'reportedCurrency': 'USD', 'grossProfit': '1460000000', 'totalRevenue': '6236000000', 'costOfRevenue': '4776000000', 'costofGoodsAndServicesSold': '2912000000', 'operatingIncome': '1347000000', 'sellingGeneralAndAdministrative': '1619000000', 'researchAndDevelopment': '441000000', 'operatingExpenses': '2305000000', 'investmentIncomeNet': '2000000', 'netInterestIncome': '-81000000', 'interestIncome': '79000000', 'interestExpense': '81000000', 'nonInterestIncome': '6304000000', 'otherNonOperatingIncome': '92000000', 'depreciation': '122000000', 'depreciationAndAmortization': '195000000', 'incomeBeforeTax': '1360000000', 'incomeTaxExpense': '150000000', 'interestAndDebtExpense': '98000000', 'netIncomeFromContinuingOperations': '1210000000', 'comprehensiveIncomeNetOfTax': '1450000000', 'ebit': '1347000000', 'ebitda': '1636000000', 'netIncome': '1210000000'}, {'fiscalDateEnding': '2020-10-31', 'reportedCurrency': 'USD', 'grossProfit': '939000000', 'totalRevenue': '5271000000', 'costOfRevenue': '4332000000', 'costofGoodsAndServicesSold': '2502000000', 'operatingIncome': '846000000', 'sellingGeneralAndAdministrative': '1496000000', 'researchAndDevelopment': '495000000', 'operatingExpenses': '2325000000', 'investmentIncomeNet': '8000000', 'netInterestIncome': '-78000000', 'interestIncome': '70000000', 'interestExpense': '78000000', 'nonInterestIncome': '5335000000', 'otherNonOperatingIncome': '66000000', 'depreciation': '119000000', 'depreciationAndAmortization': '186000000', 'incomeBeforeTax': '842000000', 'incomeTaxExpense': '123000000', 'interestAndDebtExpense': '78000000', 'netIncomeFromContinuingOperations': '719000000', 'comprehensiveIncomeNetOfTax': '711000000', 'ebit': '846000000', 'ebitda': '1106000000', 'netIncome': '719000000'}, {'fiscalDateEnding': '2019-10-31', 'reportedCurrency': 'USD', 'grossProfit': '1079000000', 'totalRevenue': '5073000000', 'costOfRevenue': '3994000000', 'costofGoodsAndServicesSold': '2358000000', 'operatingIncome': '941000000', 'sellingGeneralAndAdministrative': '1460000000', 'researchAndDevelopment': '404000000', 'operatingExpenses': '2040000000', 'investmentIncomeNet': '36000000', 'netInterestIncome': '-74000000', 'interestIncome': '36000000', 'interestExpense': '74000000', 'nonInterestIncome': '5147000000', 'otherNonOperatingIncome': '16000000', 'depreciation': '111000000', 'depreciationAndAmortization': '128000000', 'incomeBeforeTax': '919000000', 'incomeTaxExpense': '-152000000', 'interestAndDebtExpense': '83000000', 'netIncomeFromContinuingOperations': '1071000000', 'comprehensiveIncomeNetOfTax': '972000000', 'ebit': '941000000', 'ebitda': '1121000000', 'netIncome': '1071000000'}, {'fiscalDateEnding': '2018-10-31', 'reportedCurrency': 'USD', 'grossProfit': '1076000000', 'totalRevenue': '4836000000', 'costOfRevenue': '3760000000', 'costofGoodsAndServicesSold': '2234000000', 'operatingIncome': '904000000', 'sellingGeneralAndAdministrative': '1389000000', 'researchAndDevelopment': '387000000', 'operatingExpenses': '1918000000', 'investmentIncomeNet': '38000000', 'netInterestIncome': '-75000000', 'interestIncome': '38000000', 'interestExpense': '75000000', 'nonInterestIncome': '4911000000', 'otherNonOperatingIncome': '79000000', 'depreciation': '102000000', 'depreciationAndAmortization': '110000000', 'incomeBeforeTax': '946000000', 'incomeTaxExpense': '630000000', 'interestAndDebtExpense': '75000000', 'netIncomeFromContinuingOperations': '316000000', 'comprehensiveIncomeNetOfTax': '254000000', 'ebit': '904000000', 'ebitda': '1131000000', 'netIncome': '316000000'}, {'fiscalDateEnding': '2017-10-31', 'reportedCurrency': 'USD', 'grossProfit': '2409000000', 'totalRevenue': '4472000000', 'costOfRevenue': '2063000000', 'costofGoodsAndServicesSold': '2073000000', 'operatingIncome': '807000000', 'sellingGeneralAndAdministrative': '1251000000', 'researchAndDevelopment': '341000000', 'operatingExpenses': '1718000000', 'investmentIncomeNet': '22000000', 'netInterestIncome': '-79000000', 'interestIncome': 'None', 'interestExpense': '79000000', 'nonInterestIncome': '-2000000', 'otherNonOperatingIncome': '53000000', 'depreciation': '94000000', 'depreciationAndAmortization': '120000000', 'incomeBeforeTax': '803000000', 'incomeTaxExpense': '119000000', 'interestAndDebtExpense': '79000000', 'netIncomeFromContinuingOperations': '684000000', 'comprehensiveIncomeNetOfTax': '841000000', 'ebit': '807000000', 'ebitda': '1002000000', 'netIncome': '684000000'}], 'quarterlyReports': [{'fiscalDateEnding': '2022-07-31', 'reportedCurrency': 'USD', 'grossProfit': '468000000', 'totalRevenue': '1711000000', 'costOfRevenue': '1243000000', 'costofGoodsAndServicesSold': '779000000', 'operatingIncome': '411000000', 'sellingGeneralAndAdministrative': '412000000', 'researchAndDevelopment': '116000000', 'operatingExpenses': '580000000', 'investmentIncomeNet': '2000000', 'netInterestIncome': '-19000000', 'interestIncome': '2000000', 'interestExpense': '19000000', 'nonInterestIncome': '1730000000', 'otherNonOperatingIncome': '3000000', 'depreciation': 'None', 'depreciationAndAmortization': '48000000', 'incomeBeforeTax': '397000000', 'incomeTaxExpense': '68000000', 'interestAndDebtExpense': '19000000', 'netIncomeFromContinuingOperations': '329000000', 'comprehensiveIncomeNetOfTax': '300000000', 'ebit': '416000000', 'ebitda': '464000000', 'netIncome': '329000000'}, {'fiscalDateEnding': '2022-04-30', 'reportedCurrency': 'USD', 'grossProfit': '388000000', 'totalRevenue': '1586000000', 'costOfRevenue': '1198000000', 'costofGoodsAndServicesSold': '746000000', 'operatingIncome': '360000000', 'sellingGeneralAndAdministrative': '386000000', 'researchAndDevelopment': '115000000', 'operatingExpenses': '567000000', 'investmentIncomeNet': '1000000', 'netInterestIncome': '-21000000', 'interestIncome': '1000000', 'interestExpense': '21000000', 'nonInterestIncome': '1607000000', 'otherNonOperatingIncome': '-7000000', 'depreciation': 'None', 'depreciationAndAmortization': '51000000', 'incomeBeforeTax': '333000000', 'incomeTaxExpense': '59000000', 'interestAndDebtExpense': '21000000', 'netIncomeFromContinuingOperations': '274000000', 'comprehensiveIncomeNetOfTax': '239000000', 'ebit': '354000000', 'ebitda': '405000000', 'netIncome': '274000000'}, {'fiscalDateEnding': '2022-01-31', 'reportedCurrency': 'USD', 'grossProfit': '414000000', 'totalRevenue': '1653000000', 'costOfRevenue': '1239000000', 'costofGoodsAndServicesSold': '764000000', 'operatingIncome': '376000000', 'sellingGeneralAndAdministrative': '417000000', 'researchAndDevelopment': '117000000', 'operatingExpenses': '592000000', 'investmentIncomeNet': '1000000', 'netInterestIncome': '-21000000', 'interestIncome': '1000000', 'interestExpense': '21000000', 'nonInterestIncome': '1674000000', 'otherNonOperatingIncome': '-37000000', 'depreciation': 'None', 'depreciationAndAmortization': '51000000', 'incomeBeforeTax': '319000000', 'incomeTaxExpense': '36000000', 'interestAndDebtExpense': '21000000', 'netIncomeFromContinuingOperations': '283000000', 'comprehensiveIncomeNetOfTax': '267000000', 'ebit': '340000000', 'ebitda': '391000000', 'netIncome': '283000000'}, {'fiscalDateEnding': '2021-10-31', 'reportedCurrency': 'USD', 'grossProfit': '442000000', 'totalRevenue': '1654000000', 'costOfRevenue': '1212000000', 'costofGoodsAndServicesSold': '760000000', 'operatingIncome': '395000000', 'sellingGeneralAndAdministrative': '389000000', 'researchAndDevelopment': '116000000', 'operatingExpenses': '568000000', 'investmentIncomeNet': '1000000', 'netInterestIncome': '-21000000', 'interestIncome': '20000000', 'interestExpense': '21000000', 'nonInterestIncome': '1662000000', 'otherNonOperatingIncome': '73000000', 'depreciation': 'None', 'depreciationAndAmortization': '51000000', 'incomeBeforeTax': '448000000', 'incomeTaxExpense': '6000000', 'interestAndDebtExpense': '21000000', 'netIncomeFromContinuingOperations': '442000000', 'comprehensiveIncomeNetOfTax': '614000000', 'ebit': '395000000', 'ebitda': '520000000', 'netIncome': '442000000'}, {'fiscalDateEnding': '2021-07-31', 'reportedCurrency': 'USD', 'grossProfit': '364000000', 'totalRevenue': '1565000000', 'costOfRevenue': '1201000000', 'costofGoodsAndServicesSold': '734000000', 'operatingIncome': '336000000', 'sellingGeneralAndAdministrative': '403000000', 'researchAndDevelopment': '113000000', 'operatingExpenses': '580000000', 'investmentIncomeNet': '0', 'netInterestIncome': '-21000000', 'interestIncome': '21000000', 'interestExpense': '21000000', 'nonInterestIncome': '1586000000', 'otherNonOperatingIncome': '12000000', 'depreciation': 'None', 'depreciationAndAmortization': '54000000', 'incomeBeforeTax': '327000000', 'incomeTaxExpense': '63000000', 'interestAndDebtExpense': '21000000', 'netIncomeFromContinuingOperations': '264000000', 'comprehensiveIncomeNetOfTax': '262000000', 'ebit': '348000000', 'ebitda': '402000000', 'netIncome': '264000000'}, {'fiscalDateEnding': '2021-04-30', 'reportedCurrency': 'USD', 'grossProfit': '314000000', 'totalRevenue': '1505000000', 'costOfRevenue': '1191000000', 'costofGoodsAndServicesSold': '708000000', 'operatingIncome': '288000000', 'sellingGeneralAndAdministrative': '420000000', 'researchAndDevelopment': '109000000', 'operatingExpenses': '592000000', 'investmentIncomeNet': '1000000', 'netInterestIncome': '-20000000', 'interestIncome': '1000000', 'interestExpense': '20000000', 'nonInterestIncome': '1525000000', 'otherNonOperatingIncome': '4000000', 'depreciation': 'None', 'depreciationAndAmortization': '45000000', 'incomeBeforeTax': '273000000', 'incomeTaxExpense': '57000000', 'interestAndDebtExpense': '20000000', 'netIncomeFromContinuingOperations': '216000000', 'comprehensiveIncomeNetOfTax': '233000000', 'ebit': '293000000', 'ebitda': '338000000', 'netIncome': '216000000'}, {'fiscalDateEnding': '2021-01-31', 'reportedCurrency': 'USD', 'grossProfit': '353000000', 'totalRevenue': '1524000000', 'costOfRevenue': '1171000000', 'costofGoodsAndServicesSold': '710000000', 'operatingIncome': '328000000', 'sellingGeneralAndAdministrative': '407000000', 'researchAndDevelopment': '103000000', 'operatingExpenses': '564000000', 'investmentIncomeNet': '0', 'netInterestIncome': '-19000000', 'interestIncome': '19000000', 'interestExpense': '19000000', 'nonInterestIncome': '1543000000', 'otherNonOperatingIncome': '3000000', 'depreciation': 'None', 'depreciationAndAmortization': '45000000', 'incomeBeforeTax': '312000000', 'incomeTaxExpense': '24000000', 'interestAndDebtExpense': '24000000', 'netIncomeFromContinuingOperations': '288000000', 'comprehensiveIncomeNetOfTax': '341000000', 'ebit': '331000000', 'ebitda': '376000000', 'netIncome': '288000000'}, {'fiscalDateEnding': '2020-10-31', 'reportedCurrency': 'USD', 'grossProfit': '319000000', 'totalRevenue': '1463000000', 'costOfRevenue': '1144000000', 'costofGoodsAndServicesSold': '695000000', 'operatingIncome': '299000000', 'sellingGeneralAndAdministrative': '387000000', 'researchAndDevelopment': '102000000', 'operatingExpenses': '551000000', 'investmentIncomeNet': '1000000', 'netInterestIncome': '-19000000', 'interestIncome': '18000000', 'interestExpense': '19000000', 'nonInterestIncome': '1479000000', 'otherNonOperatingIncome': '2000000', 'depreciation': 'None', 'depreciationAndAmortization': '46000000', 'incomeBeforeTax': '283000000', 'incomeTaxExpense': '61000000', 'interestAndDebtExpense': '19000000', 'netIncomeFromContinuingOperations': '222000000', 'comprehensiveIncomeNetOfTax': '176000000', 'ebit': '299000000', 'ebitda': '348000000', 'netIncome': '222000000'}, {'fiscalDateEnding': '2020-07-31', 'reportedCurrency': 'USD', 'grossProfit': '253000000', 'totalRevenue': '1246000000', 'costOfRevenue': '993000000', 'costofGoodsAndServicesSold': '592000000', 'operatingIncome': '230000000', 'sellingGeneralAndAdministrative': '347000000', 'researchAndDevelopment': '92000000', 'operatingExpenses': '493000000', 'investmentIncomeNet': '1000000', 'netInterestIncome': '-19000000', 'interestIncome': '9000000', 'interestExpense': '19000000', 'nonInterestIncome': '1261000000', 'otherNonOperatingIncome': '7000000', 'depreciation': 'None', 'depreciationAndAmortization': '45000000', 'incomeBeforeTax': '219000000', 'incomeTaxExpense': '20000000', 'interestAndDebtExpense': '19000000', 'netIncomeFromContinuingOperations': '199000000', 'comprehensiveIncomeNetOfTax': '261000000', 'ebit': '238000000', 'ebitda': '283000000', 'netIncome': '199000000'}, {'fiscalDateEnding': '2020-04-30', 'reportedCurrency': 'USD', 'grossProfit': '125000000', 'totalRevenue': '1221000000', 'costOfRevenue': '1096000000', 'costofGoodsAndServicesSold': '581000000', 'operatingIncome': '102000000', 'sellingGeneralAndAdministrative': '358000000', 'researchAndDevelopment': '197000000', 'operatingExpenses': '712000000', 'investmentIncomeNet': '3000000', 'netInterestIncome': '-20000000', 'interestIncome': '3000000', 'interestExpense': '20000000', 'nonInterestIncome': '1238000000', 'otherNonOperatingIncome': '36000000', 'depreciation': 'None', 'depreciationAndAmortization': '47000000', 'incomeBeforeTax': '121000000', 'incomeTaxExpense': '20000000', 'interestAndDebtExpense': '20000000', 'netIncomeFromContinuingOperations': '101000000', 'comprehensiveIncomeNetOfTax': '84000000', 'ebit': '141000000', 'ebitda': '188000000', 'netIncome': '101000000'}, {'fiscalDateEnding': '2020-01-31', 'reportedCurrency': 'USD', 'grossProfit': '242000000', 'totalRevenue': '1341000000', 'costOfRevenue': '1099000000', 'costofGoodsAndServicesSold': '634000000', 'operatingIncome': '215000000', 'sellingGeneralAndAdministrative': '404000000', 'researchAndDevelopment': '104000000', 'operatingExpenses': '569000000', 'investmentIncomeNet': '3000000', 'netInterestIncome': '-20000000', 'interestIncome': '3000000', 'interestExpense': '20000000', 'nonInterestIncome': '1357000000', 'otherNonOperatingIncome': '21000000', 'depreciation': 'None', 'depreciationAndAmortization': '48000000', 'incomeBeforeTax': '219000000', 'incomeTaxExpense': '22000000', 'interestAndDebtExpense': '20000000', 'netIncomeFromContinuingOperations': '197000000', 'comprehensiveIncomeNetOfTax': '190000000', 'ebit': '239000000', 'ebitda': '287000000', 'netIncome': '197000000'}, {'fiscalDateEnding': '2019-10-31', 'reportedCurrency': 'USD', 'grossProfit': '253000000', 'totalRevenue': '1330000000', 'costOfRevenue': '1077000000', 'costofGoodsAndServicesSold': '630000000', 'operatingIncome': '250000000', 'sellingGeneralAndAdministrative': '385000000', 'researchAndDevelopment': '102000000', 'operatingExpenses': '549000000', 'investmentIncomeNet': '6000000', 'netInterestIncome': '-21000000', 'interestIncome': '6000000', 'interestExpense': '21000000', 'nonInterestIncome': '1351000000', 'otherNonOperatingIncome': '-4000000', 'depreciation': 'None', 'depreciationAndAmortization': '46000000', 'incomeBeforeTax': '231000000', 'incomeTaxExpense': '37000000', 'interestAndDebtExpense': '30000000', 'netIncomeFromContinuingOperations': '194000000', 'comprehensiveIncomeNetOfTax': '84000000', 'ebit': '250000000', 'ebitda': '298000000', 'netIncome': '194000000'}, {'fiscalDateEnding': '2019-07-31', 'reportedCurrency': 'USD', 'grossProfit': '269000000', 'totalRevenue': '1256000000', 'costOfRevenue': '987000000', 'costofGoodsAndServicesSold': '582000000', 'operatingIncome': '225000000', 'sellingGeneralAndAdministrative': '366000000', 'researchAndDevelopment': '101000000', 'operatingExpenses': '506000000', 'investmentIncomeNet': '10000000', 'netInterestIncome': '-18000000', 'interestIncome': '10000000', 'interestExpense': '18000000', 'nonInterestIncome': '1274000000', 'otherNonOperatingIncome': '5000000', 'depreciation': 'None', 'depreciationAndAmortization': '27000000', 'incomeBeforeTax': '222000000', 'incomeTaxExpense': '31000000', 'interestAndDebtExpense': '18000000', 'netIncomeFromContinuingOperations': '191000000', 'comprehensiveIncomeNetOfTax': '185000000', 'ebit': '240000000', 'ebitda': '267000000', 'netIncome': '191000000'}, {'fiscalDateEnding': '2019-04-30', 'reportedCurrency': 'USD', 'grossProfit': '262000000', 'totalRevenue': '1221000000', 'costOfRevenue': '959000000', 'costofGoodsAndServicesSold': '569000000', 'operatingIncome': '216000000', 'sellingGeneralAndAdministrative': '354000000', 'researchAndDevelopment': '99000000', 'operatingExpenses': '489000000', 'investmentIncomeNet': '10000000', 'netInterestIncome': '-17000000', 'interestIncome': '6000000', 'interestExpense': '17000000', 'nonInterestIncome': '1238000000', 'otherNonOperatingIncome': '9000000', 'depreciation': 'None', 'depreciationAndAmortization': '26000000', 'incomeBeforeTax': '218000000', 'incomeTaxExpense': '36000000', 'interestAndDebtExpense': '17000000', 'netIncomeFromContinuingOperations': '182000000', 'comprehensiveIncomeNetOfTax': '165000000', 'ebit': '235000000', 'ebitda': '261000000', 'netIncome': '182000000'}, {'fiscalDateEnding': '2019-01-31', 'reportedCurrency': 'USD', 'grossProfit': '295000000', 'totalRevenue': '1266000000', 'costOfRevenue': '971000000', 'costofGoodsAndServicesSold': '577000000', 'operatingIncome': '250000000', 'sellingGeneralAndAdministrative': '355000000', 'researchAndDevelopment': '102000000', 'operatingExpenses': '496000000', 'investmentIncomeNet': '10000000', 'netInterestIncome': '-18000000', 'interestIncome': 'None', 'interestExpense': '18000000', 'nonInterestIncome': '1284000000', 'otherNonOperatingIncome': '6000000', 'depreciation': 'None', 'depreciationAndAmortization': '29000000', 'incomeBeforeTax': '248000000', 'incomeTaxExpense': '-256000000', 'interestAndDebtExpense': '18000000', 'netIncomeFromContinuingOperations': '504000000', 'comprehensiveIncomeNetOfTax': '538000000', 'ebit': '266000000', 'ebitda': '295000000', 'netIncome': '504000000'}, {'fiscalDateEnding': '2018-10-31', 'reportedCurrency': 'USD', 'grossProfit': '-845000000', 'totalRevenue': '1273000000', 'costOfRevenue': '2118000000', 'costofGoodsAndServicesSold': '586000000', 'operatingIncome': '244000000', 'sellingGeneralAndAdministrative': '360000000', 'researchAndDevelopment': '104000000', 'operatingExpenses': '521000000', 'investmentIncomeNet': '10000000', 'netInterestIncome': '-18000000', 'interestIncome': 'None', 'interestExpense': '18000000', 'nonInterestIncome': '1291000000', 'otherNonOperatingIncome': '8000000', 'depreciation': 'None', 'depreciationAndAmortization': '30000000', 'incomeBeforeTax': '244000000', 'incomeTaxExpense': '49000000', 'interestAndDebtExpense': '18000000', 'netIncomeFromContinuingOperations': '195000000', 'comprehensiveIncomeNetOfTax': '122000000', 'ebit': '244000000', 'ebitda': '292000000', 'netIncome': '195000000'}, {'fiscalDateEnding': '2018-07-31', 'reportedCurrency': 'USD', 'grossProfit': '643000000', 'totalRevenue': '1185000000', 'costOfRevenue': '542000000', 'costofGoodsAndServicesSold': '544000000', 'operatingIncome': '221000000', 'sellingGeneralAndAdministrative': '341000000', 'researchAndDevelopment': '97000000', 'operatingExpenses': '472000000', 'investmentIncomeNet': '9000000', 'netInterestIncome': '-18000000', 'interestIncome': 'None', 'interestExpense': '18000000', 'nonInterestIncome': '1203000000', 'otherNonOperatingIncome': '30000000', 'depreciation': 'None', 'depreciationAndAmortization': '28000000', 'incomeBeforeTax': '242000000', 'incomeTaxExpense': '6000000', 'interestAndDebtExpense': '18000000', 'netIncomeFromContinuingOperations': '236000000', 'comprehensiveIncomeNetOfTax': '211000000', 'ebit': '260000000', 'ebitda': '288000000', 'netIncome': '236000000'}, {'fiscalDateEnding': '2018-04-30', 'reportedCurrency': 'USD', 'grossProfit': '625000000', 'totalRevenue': '1187000000', 'costOfRevenue': '562000000', 'costofGoodsAndServicesSold': '563000000', 'operatingIncome': '210000000', 'sellingGeneralAndAdministrative': '341000000', 'researchAndDevelopment': '92000000', 'operatingExpenses': '467000000', 'investmentIncomeNet': '10000000', 'netInterestIncome': '-19000000', 'interestIncome': 'None', 'interestExpense': '19000000', 'nonInterestIncome': '1206000000', 'otherNonOperatingIncome': '26000000', 'depreciation': 'None', 'depreciationAndAmortization': '26000000', 'incomeBeforeTax': '227000000', 'incomeTaxExpense': '22000000', 'interestAndDebtExpense': '19000000', 'netIncomeFromContinuingOperations': '205000000', 'comprehensiveIncomeNetOfTax': '164000000', 'ebit': '246000000', 'ebitda': '272000000', 'netIncome': '205000000'}, {'fiscalDateEnding': '2018-01-31', 'reportedCurrency': 'USD', 'grossProfit': '653000000', 'totalRevenue': '1191000000', 'costOfRevenue': '538000000', 'costofGoodsAndServicesSold': '541000000', 'operatingIncome': '229000000', 'sellingGeneralAndAdministrative': '347000000', 'researchAndDevelopment': '94000000', 'operatingExpenses': '463000000', 'investmentIncomeNet': '9000000', 'netInterestIncome': '-20000000', 'interestIncome': 'None', 'interestExpense': '20000000', 'nonInterestIncome': '1211000000', 'otherNonOperatingIncome': '15000000', 'depreciation': 'None', 'depreciationAndAmortization': '26000000', 'incomeBeforeTax': '233000000', 'incomeTaxExpense': '553000000', 'interestAndDebtExpense': '20000000', 'netIncomeFromContinuingOperations': '-284000000', 'comprehensiveIncomeNetOfTax': '-243000000', 'ebit': '253000000', 'ebitda': '279000000', 'netIncome': '-320000000'}, {'fiscalDateEnding': '2017-10-31', 'reportedCurrency': 'USD', 'grossProfit': '706000000', 'totalRevenue': '1248000000', 'costOfRevenue': '542000000', 'costofGoodsAndServicesSold': '971000000', 'operatingIncome': '199000000', 'sellingGeneralAndAdministrative': '347000000', 'researchAndDevelopment': '91000000', 'operatingExpenses': '450000000', 'investmentIncomeNet': '7000000', 'netInterestIncome': '-20000000', 'interestIncome': 'None', 'interestExpense': '20000000', 'nonInterestIncome': '-3285000000', 'otherNonOperatingIncome': '40000000', 'depreciation': 'None', 'depreciationAndAmortization': '31000000', 'incomeBeforeTax': '226000000', 'incomeTaxExpense': '49000000', 'interestAndDebtExpense': '20000000', 'netIncomeFromContinuingOperations': '54000000', 'comprehensiveIncomeNetOfTax': '248000000', 'ebit': '199000000', 'ebitda': '277000000', 'netIncome': '177000000'}]}\n"
     ]
    }
   ],
   "source": [
    "#Nested JSON of income statements\n",
    "print(income_json_test)"
   ],
   "metadata": {
    "collapsed": false,
    "pycharm": {
     "name": "#%%\n"
    }
   }
  },
  {
   "cell_type": "code",
   "execution_count": 78,
   "outputs": [
    {
     "data": {
      "text/plain": "   ticker fiscalDateEnding reportedCurrency grossProfit totalRevenue  \\\n0       A       2022-07-31              USD   468000000   1711000000   \n1       A       2022-04-30              USD   388000000   1586000000   \n2       A       2022-01-31              USD   414000000   1653000000   \n3       A       2021-10-31              USD   442000000   1654000000   \n4       A       2021-07-31              USD   364000000   1565000000   \n5       A       2021-04-30              USD   314000000   1505000000   \n6       A       2021-01-31              USD   353000000   1524000000   \n7       A       2020-10-31              USD   319000000   1463000000   \n8       A       2020-07-31              USD   253000000   1246000000   \n9       A       2020-04-30              USD   125000000   1221000000   \n10      A       2020-01-31              USD   242000000   1341000000   \n11      A       2019-10-31              USD   253000000   1330000000   \n12      A       2019-07-31              USD   269000000   1256000000   \n13      A       2019-04-30              USD   262000000   1221000000   \n14      A       2019-01-31              USD   295000000   1266000000   \n15      A       2018-10-31              USD  -845000000   1273000000   \n16      A       2018-07-31              USD   643000000   1185000000   \n17      A       2018-04-30              USD   625000000   1187000000   \n18      A       2018-01-31              USD   653000000   1191000000   \n19      A       2017-10-31              USD   706000000   1248000000   \n\n   costOfRevenue costofGoodsAndServicesSold operatingIncome  \\\n0     1243000000                  779000000       411000000   \n1     1198000000                  746000000       360000000   \n2     1239000000                  764000000       376000000   \n3     1212000000                  760000000       395000000   \n4     1201000000                  734000000       336000000   \n5     1191000000                  708000000       288000000   \n6     1171000000                  710000000       328000000   \n7     1144000000                  695000000       299000000   \n8      993000000                  592000000       230000000   \n9     1096000000                  581000000       102000000   \n10    1099000000                  634000000       215000000   \n11    1077000000                  630000000       250000000   \n12     987000000                  582000000       225000000   \n13     959000000                  569000000       216000000   \n14     971000000                  577000000       250000000   \n15    2118000000                  586000000       244000000   \n16     542000000                  544000000       221000000   \n17     562000000                  563000000       210000000   \n18     538000000                  541000000       229000000   \n19     542000000                  971000000       199000000   \n\n   sellingGeneralAndAdministrative researchAndDevelopment  ... depreciation  \\\n0                        412000000              116000000  ...         None   \n1                        386000000              115000000  ...         None   \n2                        417000000              117000000  ...         None   \n3                        389000000              116000000  ...         None   \n4                        403000000              113000000  ...         None   \n5                        420000000              109000000  ...         None   \n6                        407000000              103000000  ...         None   \n7                        387000000              102000000  ...         None   \n8                        347000000               92000000  ...         None   \n9                        358000000              197000000  ...         None   \n10                       404000000              104000000  ...         None   \n11                       385000000              102000000  ...         None   \n12                       366000000              101000000  ...         None   \n13                       354000000               99000000  ...         None   \n14                       355000000              102000000  ...         None   \n15                       360000000              104000000  ...         None   \n16                       341000000               97000000  ...         None   \n17                       341000000               92000000  ...         None   \n18                       347000000               94000000  ...         None   \n19                       347000000               91000000  ...         None   \n\n   depreciationAndAmortization incomeBeforeTax incomeTaxExpense  \\\n0                     48000000       397000000         68000000   \n1                     51000000       333000000         59000000   \n2                     51000000       319000000         36000000   \n3                     51000000       448000000          6000000   \n4                     54000000       327000000         63000000   \n5                     45000000       273000000         57000000   \n6                     45000000       312000000         24000000   \n7                     46000000       283000000         61000000   \n8                     45000000       219000000         20000000   \n9                     47000000       121000000         20000000   \n10                    48000000       219000000         22000000   \n11                    46000000       231000000         37000000   \n12                    27000000       222000000         31000000   \n13                    26000000       218000000         36000000   \n14                    29000000       248000000       -256000000   \n15                    30000000       244000000         49000000   \n16                    28000000       242000000          6000000   \n17                    26000000       227000000         22000000   \n18                    26000000       233000000        553000000   \n19                    31000000       226000000         49000000   \n\n   interestAndDebtExpense netIncomeFromContinuingOperations  \\\n0                19000000                         329000000   \n1                21000000                         274000000   \n2                21000000                         283000000   \n3                21000000                         442000000   \n4                21000000                         264000000   \n5                20000000                         216000000   \n6                24000000                         288000000   \n7                19000000                         222000000   \n8                19000000                         199000000   \n9                20000000                         101000000   \n10               20000000                         197000000   \n11               30000000                         194000000   \n12               18000000                         191000000   \n13               17000000                         182000000   \n14               18000000                         504000000   \n15               18000000                         195000000   \n16               18000000                         236000000   \n17               19000000                         205000000   \n18               20000000                        -284000000   \n19               20000000                          54000000   \n\n   comprehensiveIncomeNetOfTax       ebit     ebitda   netIncome  \n0                    300000000  416000000  464000000   329000000  \n1                    239000000  354000000  405000000   274000000  \n2                    267000000  340000000  391000000   283000000  \n3                    614000000  395000000  520000000   442000000  \n4                    262000000  348000000  402000000   264000000  \n5                    233000000  293000000  338000000   216000000  \n6                    341000000  331000000  376000000   288000000  \n7                    176000000  299000000  348000000   222000000  \n8                    261000000  238000000  283000000   199000000  \n9                     84000000  141000000  188000000   101000000  \n10                   190000000  239000000  287000000   197000000  \n11                    84000000  250000000  298000000   194000000  \n12                   185000000  240000000  267000000   191000000  \n13                   165000000  235000000  261000000   182000000  \n14                   538000000  266000000  295000000   504000000  \n15                   122000000  244000000  292000000   195000000  \n16                   211000000  260000000  288000000   236000000  \n17                   164000000  246000000  272000000   205000000  \n18                  -243000000  253000000  279000000  -320000000  \n19                   248000000  199000000  277000000   177000000  \n\n[20 rows x 27 columns]",
      "text/html": "<div>\n<style scoped>\n    .dataframe tbody tr th:only-of-type {\n        vertical-align: middle;\n    }\n\n    .dataframe tbody tr th {\n        vertical-align: top;\n    }\n\n    .dataframe thead th {\n        text-align: right;\n    }\n</style>\n<table border=\"1\" class=\"dataframe\">\n  <thead>\n    <tr style=\"text-align: right;\">\n      <th></th>\n      <th>ticker</th>\n      <th>fiscalDateEnding</th>\n      <th>reportedCurrency</th>\n      <th>grossProfit</th>\n      <th>totalRevenue</th>\n      <th>costOfRevenue</th>\n      <th>costofGoodsAndServicesSold</th>\n      <th>operatingIncome</th>\n      <th>sellingGeneralAndAdministrative</th>\n      <th>researchAndDevelopment</th>\n      <th>...</th>\n      <th>depreciation</th>\n      <th>depreciationAndAmortization</th>\n      <th>incomeBeforeTax</th>\n      <th>incomeTaxExpense</th>\n      <th>interestAndDebtExpense</th>\n      <th>netIncomeFromContinuingOperations</th>\n      <th>comprehensiveIncomeNetOfTax</th>\n      <th>ebit</th>\n      <th>ebitda</th>\n      <th>netIncome</th>\n    </tr>\n  </thead>\n  <tbody>\n    <tr>\n      <th>0</th>\n      <td>A</td>\n      <td>2022-07-31</td>\n      <td>USD</td>\n      <td>468000000</td>\n      <td>1711000000</td>\n      <td>1243000000</td>\n      <td>779000000</td>\n      <td>411000000</td>\n      <td>412000000</td>\n      <td>116000000</td>\n      <td>...</td>\n      <td>None</td>\n      <td>48000000</td>\n      <td>397000000</td>\n      <td>68000000</td>\n      <td>19000000</td>\n      <td>329000000</td>\n      <td>300000000</td>\n      <td>416000000</td>\n      <td>464000000</td>\n      <td>329000000</td>\n    </tr>\n    <tr>\n      <th>1</th>\n      <td>A</td>\n      <td>2022-04-30</td>\n      <td>USD</td>\n      <td>388000000</td>\n      <td>1586000000</td>\n      <td>1198000000</td>\n      <td>746000000</td>\n      <td>360000000</td>\n      <td>386000000</td>\n      <td>115000000</td>\n      <td>...</td>\n      <td>None</td>\n      <td>51000000</td>\n      <td>333000000</td>\n      <td>59000000</td>\n      <td>21000000</td>\n      <td>274000000</td>\n      <td>239000000</td>\n      <td>354000000</td>\n      <td>405000000</td>\n      <td>274000000</td>\n    </tr>\n    <tr>\n      <th>2</th>\n      <td>A</td>\n      <td>2022-01-31</td>\n      <td>USD</td>\n      <td>414000000</td>\n      <td>1653000000</td>\n      <td>1239000000</td>\n      <td>764000000</td>\n      <td>376000000</td>\n      <td>417000000</td>\n      <td>117000000</td>\n      <td>...</td>\n      <td>None</td>\n      <td>51000000</td>\n      <td>319000000</td>\n      <td>36000000</td>\n      <td>21000000</td>\n      <td>283000000</td>\n      <td>267000000</td>\n      <td>340000000</td>\n      <td>391000000</td>\n      <td>283000000</td>\n    </tr>\n    <tr>\n      <th>3</th>\n      <td>A</td>\n      <td>2021-10-31</td>\n      <td>USD</td>\n      <td>442000000</td>\n      <td>1654000000</td>\n      <td>1212000000</td>\n      <td>760000000</td>\n      <td>395000000</td>\n      <td>389000000</td>\n      <td>116000000</td>\n      <td>...</td>\n      <td>None</td>\n      <td>51000000</td>\n      <td>448000000</td>\n      <td>6000000</td>\n      <td>21000000</td>\n      <td>442000000</td>\n      <td>614000000</td>\n      <td>395000000</td>\n      <td>520000000</td>\n      <td>442000000</td>\n    </tr>\n    <tr>\n      <th>4</th>\n      <td>A</td>\n      <td>2021-07-31</td>\n      <td>USD</td>\n      <td>364000000</td>\n      <td>1565000000</td>\n      <td>1201000000</td>\n      <td>734000000</td>\n      <td>336000000</td>\n      <td>403000000</td>\n      <td>113000000</td>\n      <td>...</td>\n      <td>None</td>\n      <td>54000000</td>\n      <td>327000000</td>\n      <td>63000000</td>\n      <td>21000000</td>\n      <td>264000000</td>\n      <td>262000000</td>\n      <td>348000000</td>\n      <td>402000000</td>\n      <td>264000000</td>\n    </tr>\n    <tr>\n      <th>5</th>\n      <td>A</td>\n      <td>2021-04-30</td>\n      <td>USD</td>\n      <td>314000000</td>\n      <td>1505000000</td>\n      <td>1191000000</td>\n      <td>708000000</td>\n      <td>288000000</td>\n      <td>420000000</td>\n      <td>109000000</td>\n      <td>...</td>\n      <td>None</td>\n      <td>45000000</td>\n      <td>273000000</td>\n      <td>57000000</td>\n      <td>20000000</td>\n      <td>216000000</td>\n      <td>233000000</td>\n      <td>293000000</td>\n      <td>338000000</td>\n      <td>216000000</td>\n    </tr>\n    <tr>\n      <th>6</th>\n      <td>A</td>\n      <td>2021-01-31</td>\n      <td>USD</td>\n      <td>353000000</td>\n      <td>1524000000</td>\n      <td>1171000000</td>\n      <td>710000000</td>\n      <td>328000000</td>\n      <td>407000000</td>\n      <td>103000000</td>\n      <td>...</td>\n      <td>None</td>\n      <td>45000000</td>\n      <td>312000000</td>\n      <td>24000000</td>\n      <td>24000000</td>\n      <td>288000000</td>\n      <td>341000000</td>\n      <td>331000000</td>\n      <td>376000000</td>\n      <td>288000000</td>\n    </tr>\n    <tr>\n      <th>7</th>\n      <td>A</td>\n      <td>2020-10-31</td>\n      <td>USD</td>\n      <td>319000000</td>\n      <td>1463000000</td>\n      <td>1144000000</td>\n      <td>695000000</td>\n      <td>299000000</td>\n      <td>387000000</td>\n      <td>102000000</td>\n      <td>...</td>\n      <td>None</td>\n      <td>46000000</td>\n      <td>283000000</td>\n      <td>61000000</td>\n      <td>19000000</td>\n      <td>222000000</td>\n      <td>176000000</td>\n      <td>299000000</td>\n      <td>348000000</td>\n      <td>222000000</td>\n    </tr>\n    <tr>\n      <th>8</th>\n      <td>A</td>\n      <td>2020-07-31</td>\n      <td>USD</td>\n      <td>253000000</td>\n      <td>1246000000</td>\n      <td>993000000</td>\n      <td>592000000</td>\n      <td>230000000</td>\n      <td>347000000</td>\n      <td>92000000</td>\n      <td>...</td>\n      <td>None</td>\n      <td>45000000</td>\n      <td>219000000</td>\n      <td>20000000</td>\n      <td>19000000</td>\n      <td>199000000</td>\n      <td>261000000</td>\n      <td>238000000</td>\n      <td>283000000</td>\n      <td>199000000</td>\n    </tr>\n    <tr>\n      <th>9</th>\n      <td>A</td>\n      <td>2020-04-30</td>\n      <td>USD</td>\n      <td>125000000</td>\n      <td>1221000000</td>\n      <td>1096000000</td>\n      <td>581000000</td>\n      <td>102000000</td>\n      <td>358000000</td>\n      <td>197000000</td>\n      <td>...</td>\n      <td>None</td>\n      <td>47000000</td>\n      <td>121000000</td>\n      <td>20000000</td>\n      <td>20000000</td>\n      <td>101000000</td>\n      <td>84000000</td>\n      <td>141000000</td>\n      <td>188000000</td>\n      <td>101000000</td>\n    </tr>\n    <tr>\n      <th>10</th>\n      <td>A</td>\n      <td>2020-01-31</td>\n      <td>USD</td>\n      <td>242000000</td>\n      <td>1341000000</td>\n      <td>1099000000</td>\n      <td>634000000</td>\n      <td>215000000</td>\n      <td>404000000</td>\n      <td>104000000</td>\n      <td>...</td>\n      <td>None</td>\n      <td>48000000</td>\n      <td>219000000</td>\n      <td>22000000</td>\n      <td>20000000</td>\n      <td>197000000</td>\n      <td>190000000</td>\n      <td>239000000</td>\n      <td>287000000</td>\n      <td>197000000</td>\n    </tr>\n    <tr>\n      <th>11</th>\n      <td>A</td>\n      <td>2019-10-31</td>\n      <td>USD</td>\n      <td>253000000</td>\n      <td>1330000000</td>\n      <td>1077000000</td>\n      <td>630000000</td>\n      <td>250000000</td>\n      <td>385000000</td>\n      <td>102000000</td>\n      <td>...</td>\n      <td>None</td>\n      <td>46000000</td>\n      <td>231000000</td>\n      <td>37000000</td>\n      <td>30000000</td>\n      <td>194000000</td>\n      <td>84000000</td>\n      <td>250000000</td>\n      <td>298000000</td>\n      <td>194000000</td>\n    </tr>\n    <tr>\n      <th>12</th>\n      <td>A</td>\n      <td>2019-07-31</td>\n      <td>USD</td>\n      <td>269000000</td>\n      <td>1256000000</td>\n      <td>987000000</td>\n      <td>582000000</td>\n      <td>225000000</td>\n      <td>366000000</td>\n      <td>101000000</td>\n      <td>...</td>\n      <td>None</td>\n      <td>27000000</td>\n      <td>222000000</td>\n      <td>31000000</td>\n      <td>18000000</td>\n      <td>191000000</td>\n      <td>185000000</td>\n      <td>240000000</td>\n      <td>267000000</td>\n      <td>191000000</td>\n    </tr>\n    <tr>\n      <th>13</th>\n      <td>A</td>\n      <td>2019-04-30</td>\n      <td>USD</td>\n      <td>262000000</td>\n      <td>1221000000</td>\n      <td>959000000</td>\n      <td>569000000</td>\n      <td>216000000</td>\n      <td>354000000</td>\n      <td>99000000</td>\n      <td>...</td>\n      <td>None</td>\n      <td>26000000</td>\n      <td>218000000</td>\n      <td>36000000</td>\n      <td>17000000</td>\n      <td>182000000</td>\n      <td>165000000</td>\n      <td>235000000</td>\n      <td>261000000</td>\n      <td>182000000</td>\n    </tr>\n    <tr>\n      <th>14</th>\n      <td>A</td>\n      <td>2019-01-31</td>\n      <td>USD</td>\n      <td>295000000</td>\n      <td>1266000000</td>\n      <td>971000000</td>\n      <td>577000000</td>\n      <td>250000000</td>\n      <td>355000000</td>\n      <td>102000000</td>\n      <td>...</td>\n      <td>None</td>\n      <td>29000000</td>\n      <td>248000000</td>\n      <td>-256000000</td>\n      <td>18000000</td>\n      <td>504000000</td>\n      <td>538000000</td>\n      <td>266000000</td>\n      <td>295000000</td>\n      <td>504000000</td>\n    </tr>\n    <tr>\n      <th>15</th>\n      <td>A</td>\n      <td>2018-10-31</td>\n      <td>USD</td>\n      <td>-845000000</td>\n      <td>1273000000</td>\n      <td>2118000000</td>\n      <td>586000000</td>\n      <td>244000000</td>\n      <td>360000000</td>\n      <td>104000000</td>\n      <td>...</td>\n      <td>None</td>\n      <td>30000000</td>\n      <td>244000000</td>\n      <td>49000000</td>\n      <td>18000000</td>\n      <td>195000000</td>\n      <td>122000000</td>\n      <td>244000000</td>\n      <td>292000000</td>\n      <td>195000000</td>\n    </tr>\n    <tr>\n      <th>16</th>\n      <td>A</td>\n      <td>2018-07-31</td>\n      <td>USD</td>\n      <td>643000000</td>\n      <td>1185000000</td>\n      <td>542000000</td>\n      <td>544000000</td>\n      <td>221000000</td>\n      <td>341000000</td>\n      <td>97000000</td>\n      <td>...</td>\n      <td>None</td>\n      <td>28000000</td>\n      <td>242000000</td>\n      <td>6000000</td>\n      <td>18000000</td>\n      <td>236000000</td>\n      <td>211000000</td>\n      <td>260000000</td>\n      <td>288000000</td>\n      <td>236000000</td>\n    </tr>\n    <tr>\n      <th>17</th>\n      <td>A</td>\n      <td>2018-04-30</td>\n      <td>USD</td>\n      <td>625000000</td>\n      <td>1187000000</td>\n      <td>562000000</td>\n      <td>563000000</td>\n      <td>210000000</td>\n      <td>341000000</td>\n      <td>92000000</td>\n      <td>...</td>\n      <td>None</td>\n      <td>26000000</td>\n      <td>227000000</td>\n      <td>22000000</td>\n      <td>19000000</td>\n      <td>205000000</td>\n      <td>164000000</td>\n      <td>246000000</td>\n      <td>272000000</td>\n      <td>205000000</td>\n    </tr>\n    <tr>\n      <th>18</th>\n      <td>A</td>\n      <td>2018-01-31</td>\n      <td>USD</td>\n      <td>653000000</td>\n      <td>1191000000</td>\n      <td>538000000</td>\n      <td>541000000</td>\n      <td>229000000</td>\n      <td>347000000</td>\n      <td>94000000</td>\n      <td>...</td>\n      <td>None</td>\n      <td>26000000</td>\n      <td>233000000</td>\n      <td>553000000</td>\n      <td>20000000</td>\n      <td>-284000000</td>\n      <td>-243000000</td>\n      <td>253000000</td>\n      <td>279000000</td>\n      <td>-320000000</td>\n    </tr>\n    <tr>\n      <th>19</th>\n      <td>A</td>\n      <td>2017-10-31</td>\n      <td>USD</td>\n      <td>706000000</td>\n      <td>1248000000</td>\n      <td>542000000</td>\n      <td>971000000</td>\n      <td>199000000</td>\n      <td>347000000</td>\n      <td>91000000</td>\n      <td>...</td>\n      <td>None</td>\n      <td>31000000</td>\n      <td>226000000</td>\n      <td>49000000</td>\n      <td>20000000</td>\n      <td>54000000</td>\n      <td>248000000</td>\n      <td>199000000</td>\n      <td>277000000</td>\n      <td>177000000</td>\n    </tr>\n  </tbody>\n</table>\n<p>20 rows × 27 columns</p>\n</div>"
     },
     "execution_count": 78,
     "metadata": {},
     "output_type": "execute_result"
    }
   ],
   "source": [
    "def clean_income(json_file):\n",
    "    income = pd.json_normalize(json_file, max_level=1)\n",
    "    income_q = income.drop(columns='annualReports', axis = 1)\n",
    "    income_q = income_q['quarterlyReports'].to_json()\n",
    "    income_q = pd.read_json(income_q, orient = 'records')#.transpose()\n",
    "    income_q = income_q[0].apply(pd.Series)\n",
    "    income_q['ticker'] = income.iloc[0,0]\n",
    "    income_q_cols = income_q.columns.tolist()\n",
    "    income_q_cols = income_q_cols[-1:] + income_q_cols[:-1]\n",
    "    income_q = income_q[income_q_cols]\n",
    "    return income_q\n",
    "\n",
    "clean_income(income_json_test)\n"
   ],
   "metadata": {
    "collapsed": false,
    "pycharm": {
     "name": "#%%\n"
    }
   }
  },
  {
   "cell_type": "markdown",
   "source": [
    "Company Balance Sheet:"
   ],
   "metadata": {
    "collapsed": false,
    "pycharm": {
     "name": "#%% md\n"
    }
   }
  },
  {
   "cell_type": "code",
   "execution_count": 79,
   "outputs": [],
   "source": [
    "balsheet_json_test = get_balance_sheet(test, avkey)"
   ],
   "metadata": {
    "collapsed": false,
    "pycharm": {
     "name": "#%%\n"
    }
   }
  },
  {
   "cell_type": "code",
   "execution_count": 80,
   "outputs": [
    {
     "data": {
      "text/plain": "   ticker fiscalDateEnding reportedCurrency  totalAssets totalCurrentAssets  \\\n0       A       2022-07-31              USD  10484000000         3690000000   \n1       A       2022-04-30              USD  10455000000         3643000000   \n2       A       2022-01-31              USD  10327000000         3474000000   \n3       A       2021-10-31              USD  10705000000         3799000000   \n4       A       2021-07-31              USD  10491000000         3632000000   \n5       A       2021-04-30              USD  10398000000         3514000000   \n6       A       2021-01-31              USD   9674000000         3483000000   \n7       A       2020-10-31              USD   9627000000         3415000000   \n8       A       2020-07-31              USD   9546000000         3245000000   \n9       A       2020-04-30              USD   9455000000         3171000000   \n10      A       2020-01-31              USD   9501000000         3102000000   \n11      A       2019-10-31              USD   9452000000         3189000000   \n12      A       2019-07-31              USD   8625000000         3457000000   \n13      A       2019-04-30              USD   9022000000         3812000000   \n14      A       2019-01-31              USD   8952000000         3712000000   \n15      A       2018-11-01              USD   8558000000         3865000000   \n16      A       2018-07-31              USD   8349000000         3667000000   \n17      A       2018-04-30              USD   8784000000         4525000000   \n18      A       2018-01-31              USD   8698000000         4397000000   \n19      A       2017-10-31              USD   8426000000         4169000000   \n\n   cashAndCashEquivalentsAtCarryingValue cashAndShortTermInvestments  \\\n0                             1071000000                  1077000000   \n1                             1186000000                  1207000000   \n2                             1113000000                  1158000000   \n3                             1484000000                  1575000000   \n4                             1428000000                  1428000000   \n5                             1380000000                  1380000000   \n6                             1329000000                  1329000000   \n7                             1441000000                  1466000000   \n8                             1358000000                  1358000000   \n9                             1324000000                  1324000000   \n10                            1226000000                  1226000000   \n11                            1382000000                  1407000000   \n12                            1765000000                  1765000000   \n13                            2155000000                  2155000000   \n14                            2057000000                  2057000000   \n15                            2247000000                  2247000000   \n16                            2131000000                  2131000000   \n17                            3011000000                  3011000000   \n18                            2887000000                  2887000000   \n19                            2678000000                  2678000000   \n\n     inventory currentNetReceivables totalNonCurrentAssets  ...  \\\n0   1010000000            1345000000            6952000000  ...   \n1    937000000            1237000000            6812000000  ...   \n2    879000000            1205000000            6853000000  ...   \n3    830000000            1238000000            7090000000  ...   \n4    818000000            1122000000            6859000000  ...   \n5    791000000            1075000000            6884000000  ...   \n6    755000000            1087000000            6191000000  ...   \n7    720000000            1127000000            6393000000  ...   \n8    746000000             930000000            6301000000  ...   \n9    750000000             886000000            6284000000  ...   \n10   706000000             966000000            6399000000  ...   \n11   679000000             998000000            6468000000  ...   \n12   660000000             856000000            5174000000  ...   \n13   657000000             819000000            5216000000  ...   \n14   653000000             833000000            5247000000  ...   \n15   628000000                  None            4693000000  ...   \n16   623000000             733000000            4682000000  ...   \n17   594000000             754000000            4259000000  ...   \n18   608000000             751000000            4301000000  ...   \n19   575000000             801000000            4275000000  ...   \n\n   currentLongTermDebt longTermDebtNoncurrent shortLongTermDebtTotal  \\\n0            180000000                   None             2912000000   \n1            175000000             2730000000             2905000000   \n2                 None             2730000000             2730000000   \n3                 None             2729000000             2729000000   \n4            130000000             2728000000             2858000000   \n5            205000000             2727000000             2932000000   \n6            314000000             2185000000             2499000000   \n7             75000000             2284000000             2359000000   \n8             40000000             2283000000             2323000000   \n9             51000000             1788000000             2488000000   \n10            51000000             1787000000             2462000000   \n11           616000000             1791000000             2402000000   \n12           504000000             1294000000             1798000000   \n13                None             1798000000             1793000000   \n14                None             1798000000             1792000000   \n15                None             1799000000             1799000000   \n16          1799000000             1799000000             1791000000   \n17          2115000000             1800000000             2106000000   \n18          2145000000             1800000000             2135000000   \n19           100000000             1801000000             2000000000   \n\n   otherCurrentLiabilities otherNonCurrentLiabilities totalShareholderEquity  \\\n0                666000000                  583000000             5091000000   \n1                624000000                  603000000             5122000000   \n2                616000000                  653000000             5154000000   \n3                328000000                  659000000             5389000000   \n4                735000000                  728000000             4946000000   \n5                701000000                  726000000             4810000000   \n6                556000000                  609000000             4804000000   \n7                285000000                  614000000             4873000000   \n8                566000000                  613000000             4981000000   \n9                513000000                  614000000             4768000000   \n10               509000000                  620000000             4848000000   \n11               774000000                  833000000             4748000000   \n12               188000000                  737000000             4747000000   \n13               165000000                  752000000             5125000000   \n14               197000000                  785000000             5036000000   \n15               203000000                  763000000             4593000000   \n16               162000000                  750000000             4564000000   \n17               175000000                  776000000             4613000000   \n18               182000000                  770000000             4522000000   \n19               181000000                  293000000             4831000000   \n\n   treasuryStock retainedEarnings commonStock commonStockSharesOutstanding  \n0           None        139000000     3000000                    296000000  \n1           None        160000000     3000000                    299000000  \n2           None        159000000     3000000                    300000000  \n3           None        348000000     3000000                    302000000  \n4           None         90000000     3000000                    303000000  \n5           None        -12000000     3000000                    303000000  \n6           None          4000000     3000000                    305000000  \n7           None         81000000     3000000                    306000000  \n8           None        130000000     3000000                    309000000  \n9           None         15000000     3000000                    308000000  \n10          None         73000000     3000000                    310000000  \n11          None        -18000000     3000000                    309000000  \n12          None       -122000000     3000000                    310000000  \n13       1000000        178000000     3000000                    317000000  \n14          None         90000000     3000000                    318000000  \n15          None       -336000000     3000000                    322000000  \n16          None       -416000000     3000000                    319000000  \n17          None       -412000000     3000000                    322000000  \n18       3000000       -529000000     3000000                    323000000  \n19             0       -126000000     3000000                    322000000  \n\n[20 rows x 39 columns]",
      "text/html": "<div>\n<style scoped>\n    .dataframe tbody tr th:only-of-type {\n        vertical-align: middle;\n    }\n\n    .dataframe tbody tr th {\n        vertical-align: top;\n    }\n\n    .dataframe thead th {\n        text-align: right;\n    }\n</style>\n<table border=\"1\" class=\"dataframe\">\n  <thead>\n    <tr style=\"text-align: right;\">\n      <th></th>\n      <th>ticker</th>\n      <th>fiscalDateEnding</th>\n      <th>reportedCurrency</th>\n      <th>totalAssets</th>\n      <th>totalCurrentAssets</th>\n      <th>cashAndCashEquivalentsAtCarryingValue</th>\n      <th>cashAndShortTermInvestments</th>\n      <th>inventory</th>\n      <th>currentNetReceivables</th>\n      <th>totalNonCurrentAssets</th>\n      <th>...</th>\n      <th>currentLongTermDebt</th>\n      <th>longTermDebtNoncurrent</th>\n      <th>shortLongTermDebtTotal</th>\n      <th>otherCurrentLiabilities</th>\n      <th>otherNonCurrentLiabilities</th>\n      <th>totalShareholderEquity</th>\n      <th>treasuryStock</th>\n      <th>retainedEarnings</th>\n      <th>commonStock</th>\n      <th>commonStockSharesOutstanding</th>\n    </tr>\n  </thead>\n  <tbody>\n    <tr>\n      <th>0</th>\n      <td>A</td>\n      <td>2022-07-31</td>\n      <td>USD</td>\n      <td>10484000000</td>\n      <td>3690000000</td>\n      <td>1071000000</td>\n      <td>1077000000</td>\n      <td>1010000000</td>\n      <td>1345000000</td>\n      <td>6952000000</td>\n      <td>...</td>\n      <td>180000000</td>\n      <td>None</td>\n      <td>2912000000</td>\n      <td>666000000</td>\n      <td>583000000</td>\n      <td>5091000000</td>\n      <td>None</td>\n      <td>139000000</td>\n      <td>3000000</td>\n      <td>296000000</td>\n    </tr>\n    <tr>\n      <th>1</th>\n      <td>A</td>\n      <td>2022-04-30</td>\n      <td>USD</td>\n      <td>10455000000</td>\n      <td>3643000000</td>\n      <td>1186000000</td>\n      <td>1207000000</td>\n      <td>937000000</td>\n      <td>1237000000</td>\n      <td>6812000000</td>\n      <td>...</td>\n      <td>175000000</td>\n      <td>2730000000</td>\n      <td>2905000000</td>\n      <td>624000000</td>\n      <td>603000000</td>\n      <td>5122000000</td>\n      <td>None</td>\n      <td>160000000</td>\n      <td>3000000</td>\n      <td>299000000</td>\n    </tr>\n    <tr>\n      <th>2</th>\n      <td>A</td>\n      <td>2022-01-31</td>\n      <td>USD</td>\n      <td>10327000000</td>\n      <td>3474000000</td>\n      <td>1113000000</td>\n      <td>1158000000</td>\n      <td>879000000</td>\n      <td>1205000000</td>\n      <td>6853000000</td>\n      <td>...</td>\n      <td>None</td>\n      <td>2730000000</td>\n      <td>2730000000</td>\n      <td>616000000</td>\n      <td>653000000</td>\n      <td>5154000000</td>\n      <td>None</td>\n      <td>159000000</td>\n      <td>3000000</td>\n      <td>300000000</td>\n    </tr>\n    <tr>\n      <th>3</th>\n      <td>A</td>\n      <td>2021-10-31</td>\n      <td>USD</td>\n      <td>10705000000</td>\n      <td>3799000000</td>\n      <td>1484000000</td>\n      <td>1575000000</td>\n      <td>830000000</td>\n      <td>1238000000</td>\n      <td>7090000000</td>\n      <td>...</td>\n      <td>None</td>\n      <td>2729000000</td>\n      <td>2729000000</td>\n      <td>328000000</td>\n      <td>659000000</td>\n      <td>5389000000</td>\n      <td>None</td>\n      <td>348000000</td>\n      <td>3000000</td>\n      <td>302000000</td>\n    </tr>\n    <tr>\n      <th>4</th>\n      <td>A</td>\n      <td>2021-07-31</td>\n      <td>USD</td>\n      <td>10491000000</td>\n      <td>3632000000</td>\n      <td>1428000000</td>\n      <td>1428000000</td>\n      <td>818000000</td>\n      <td>1122000000</td>\n      <td>6859000000</td>\n      <td>...</td>\n      <td>130000000</td>\n      <td>2728000000</td>\n      <td>2858000000</td>\n      <td>735000000</td>\n      <td>728000000</td>\n      <td>4946000000</td>\n      <td>None</td>\n      <td>90000000</td>\n      <td>3000000</td>\n      <td>303000000</td>\n    </tr>\n    <tr>\n      <th>5</th>\n      <td>A</td>\n      <td>2021-04-30</td>\n      <td>USD</td>\n      <td>10398000000</td>\n      <td>3514000000</td>\n      <td>1380000000</td>\n      <td>1380000000</td>\n      <td>791000000</td>\n      <td>1075000000</td>\n      <td>6884000000</td>\n      <td>...</td>\n      <td>205000000</td>\n      <td>2727000000</td>\n      <td>2932000000</td>\n      <td>701000000</td>\n      <td>726000000</td>\n      <td>4810000000</td>\n      <td>None</td>\n      <td>-12000000</td>\n      <td>3000000</td>\n      <td>303000000</td>\n    </tr>\n    <tr>\n      <th>6</th>\n      <td>A</td>\n      <td>2021-01-31</td>\n      <td>USD</td>\n      <td>9674000000</td>\n      <td>3483000000</td>\n      <td>1329000000</td>\n      <td>1329000000</td>\n      <td>755000000</td>\n      <td>1087000000</td>\n      <td>6191000000</td>\n      <td>...</td>\n      <td>314000000</td>\n      <td>2185000000</td>\n      <td>2499000000</td>\n      <td>556000000</td>\n      <td>609000000</td>\n      <td>4804000000</td>\n      <td>None</td>\n      <td>4000000</td>\n      <td>3000000</td>\n      <td>305000000</td>\n    </tr>\n    <tr>\n      <th>7</th>\n      <td>A</td>\n      <td>2020-10-31</td>\n      <td>USD</td>\n      <td>9627000000</td>\n      <td>3415000000</td>\n      <td>1441000000</td>\n      <td>1466000000</td>\n      <td>720000000</td>\n      <td>1127000000</td>\n      <td>6393000000</td>\n      <td>...</td>\n      <td>75000000</td>\n      <td>2284000000</td>\n      <td>2359000000</td>\n      <td>285000000</td>\n      <td>614000000</td>\n      <td>4873000000</td>\n      <td>None</td>\n      <td>81000000</td>\n      <td>3000000</td>\n      <td>306000000</td>\n    </tr>\n    <tr>\n      <th>8</th>\n      <td>A</td>\n      <td>2020-07-31</td>\n      <td>USD</td>\n      <td>9546000000</td>\n      <td>3245000000</td>\n      <td>1358000000</td>\n      <td>1358000000</td>\n      <td>746000000</td>\n      <td>930000000</td>\n      <td>6301000000</td>\n      <td>...</td>\n      <td>40000000</td>\n      <td>2283000000</td>\n      <td>2323000000</td>\n      <td>566000000</td>\n      <td>613000000</td>\n      <td>4981000000</td>\n      <td>None</td>\n      <td>130000000</td>\n      <td>3000000</td>\n      <td>309000000</td>\n    </tr>\n    <tr>\n      <th>9</th>\n      <td>A</td>\n      <td>2020-04-30</td>\n      <td>USD</td>\n      <td>9455000000</td>\n      <td>3171000000</td>\n      <td>1324000000</td>\n      <td>1324000000</td>\n      <td>750000000</td>\n      <td>886000000</td>\n      <td>6284000000</td>\n      <td>...</td>\n      <td>51000000</td>\n      <td>1788000000</td>\n      <td>2488000000</td>\n      <td>513000000</td>\n      <td>614000000</td>\n      <td>4768000000</td>\n      <td>None</td>\n      <td>15000000</td>\n      <td>3000000</td>\n      <td>308000000</td>\n    </tr>\n    <tr>\n      <th>10</th>\n      <td>A</td>\n      <td>2020-01-31</td>\n      <td>USD</td>\n      <td>9501000000</td>\n      <td>3102000000</td>\n      <td>1226000000</td>\n      <td>1226000000</td>\n      <td>706000000</td>\n      <td>966000000</td>\n      <td>6399000000</td>\n      <td>...</td>\n      <td>51000000</td>\n      <td>1787000000</td>\n      <td>2462000000</td>\n      <td>509000000</td>\n      <td>620000000</td>\n      <td>4848000000</td>\n      <td>None</td>\n      <td>73000000</td>\n      <td>3000000</td>\n      <td>310000000</td>\n    </tr>\n    <tr>\n      <th>11</th>\n      <td>A</td>\n      <td>2019-10-31</td>\n      <td>USD</td>\n      <td>9452000000</td>\n      <td>3189000000</td>\n      <td>1382000000</td>\n      <td>1407000000</td>\n      <td>679000000</td>\n      <td>998000000</td>\n      <td>6468000000</td>\n      <td>...</td>\n      <td>616000000</td>\n      <td>1791000000</td>\n      <td>2402000000</td>\n      <td>774000000</td>\n      <td>833000000</td>\n      <td>4748000000</td>\n      <td>None</td>\n      <td>-18000000</td>\n      <td>3000000</td>\n      <td>309000000</td>\n    </tr>\n    <tr>\n      <th>12</th>\n      <td>A</td>\n      <td>2019-07-31</td>\n      <td>USD</td>\n      <td>8625000000</td>\n      <td>3457000000</td>\n      <td>1765000000</td>\n      <td>1765000000</td>\n      <td>660000000</td>\n      <td>856000000</td>\n      <td>5174000000</td>\n      <td>...</td>\n      <td>504000000</td>\n      <td>1294000000</td>\n      <td>1798000000</td>\n      <td>188000000</td>\n      <td>737000000</td>\n      <td>4747000000</td>\n      <td>None</td>\n      <td>-122000000</td>\n      <td>3000000</td>\n      <td>310000000</td>\n    </tr>\n    <tr>\n      <th>13</th>\n      <td>A</td>\n      <td>2019-04-30</td>\n      <td>USD</td>\n      <td>9022000000</td>\n      <td>3812000000</td>\n      <td>2155000000</td>\n      <td>2155000000</td>\n      <td>657000000</td>\n      <td>819000000</td>\n      <td>5216000000</td>\n      <td>...</td>\n      <td>None</td>\n      <td>1798000000</td>\n      <td>1793000000</td>\n      <td>165000000</td>\n      <td>752000000</td>\n      <td>5125000000</td>\n      <td>1000000</td>\n      <td>178000000</td>\n      <td>3000000</td>\n      <td>317000000</td>\n    </tr>\n    <tr>\n      <th>14</th>\n      <td>A</td>\n      <td>2019-01-31</td>\n      <td>USD</td>\n      <td>8952000000</td>\n      <td>3712000000</td>\n      <td>2057000000</td>\n      <td>2057000000</td>\n      <td>653000000</td>\n      <td>833000000</td>\n      <td>5247000000</td>\n      <td>...</td>\n      <td>None</td>\n      <td>1798000000</td>\n      <td>1792000000</td>\n      <td>197000000</td>\n      <td>785000000</td>\n      <td>5036000000</td>\n      <td>None</td>\n      <td>90000000</td>\n      <td>3000000</td>\n      <td>318000000</td>\n    </tr>\n    <tr>\n      <th>15</th>\n      <td>A</td>\n      <td>2018-11-01</td>\n      <td>USD</td>\n      <td>8558000000</td>\n      <td>3865000000</td>\n      <td>2247000000</td>\n      <td>2247000000</td>\n      <td>628000000</td>\n      <td>None</td>\n      <td>4693000000</td>\n      <td>...</td>\n      <td>None</td>\n      <td>1799000000</td>\n      <td>1799000000</td>\n      <td>203000000</td>\n      <td>763000000</td>\n      <td>4593000000</td>\n      <td>None</td>\n      <td>-336000000</td>\n      <td>3000000</td>\n      <td>322000000</td>\n    </tr>\n    <tr>\n      <th>16</th>\n      <td>A</td>\n      <td>2018-07-31</td>\n      <td>USD</td>\n      <td>8349000000</td>\n      <td>3667000000</td>\n      <td>2131000000</td>\n      <td>2131000000</td>\n      <td>623000000</td>\n      <td>733000000</td>\n      <td>4682000000</td>\n      <td>...</td>\n      <td>1799000000</td>\n      <td>1799000000</td>\n      <td>1791000000</td>\n      <td>162000000</td>\n      <td>750000000</td>\n      <td>4564000000</td>\n      <td>None</td>\n      <td>-416000000</td>\n      <td>3000000</td>\n      <td>319000000</td>\n    </tr>\n    <tr>\n      <th>17</th>\n      <td>A</td>\n      <td>2018-04-30</td>\n      <td>USD</td>\n      <td>8784000000</td>\n      <td>4525000000</td>\n      <td>3011000000</td>\n      <td>3011000000</td>\n      <td>594000000</td>\n      <td>754000000</td>\n      <td>4259000000</td>\n      <td>...</td>\n      <td>2115000000</td>\n      <td>1800000000</td>\n      <td>2106000000</td>\n      <td>175000000</td>\n      <td>776000000</td>\n      <td>4613000000</td>\n      <td>None</td>\n      <td>-412000000</td>\n      <td>3000000</td>\n      <td>322000000</td>\n    </tr>\n    <tr>\n      <th>18</th>\n      <td>A</td>\n      <td>2018-01-31</td>\n      <td>USD</td>\n      <td>8698000000</td>\n      <td>4397000000</td>\n      <td>2887000000</td>\n      <td>2887000000</td>\n      <td>608000000</td>\n      <td>751000000</td>\n      <td>4301000000</td>\n      <td>...</td>\n      <td>2145000000</td>\n      <td>1800000000</td>\n      <td>2135000000</td>\n      <td>182000000</td>\n      <td>770000000</td>\n      <td>4522000000</td>\n      <td>3000000</td>\n      <td>-529000000</td>\n      <td>3000000</td>\n      <td>323000000</td>\n    </tr>\n    <tr>\n      <th>19</th>\n      <td>A</td>\n      <td>2017-10-31</td>\n      <td>USD</td>\n      <td>8426000000</td>\n      <td>4169000000</td>\n      <td>2678000000</td>\n      <td>2678000000</td>\n      <td>575000000</td>\n      <td>801000000</td>\n      <td>4275000000</td>\n      <td>...</td>\n      <td>100000000</td>\n      <td>1801000000</td>\n      <td>2000000000</td>\n      <td>181000000</td>\n      <td>293000000</td>\n      <td>4831000000</td>\n      <td>0</td>\n      <td>-126000000</td>\n      <td>3000000</td>\n      <td>322000000</td>\n    </tr>\n  </tbody>\n</table>\n<p>20 rows × 39 columns</p>\n</div>"
     },
     "execution_count": 80,
     "metadata": {},
     "output_type": "execute_result"
    }
   ],
   "source": [
    "def clean_balsheet(json_file):\n",
    "    balsheet = pd.json_normalize(json_file, max_level=1)\n",
    "    balsheet_q = balsheet['quarterlyReports'].apply(pd.Series).transpose()\n",
    "    balsheet_q = balsheet_q[0].apply(pd.Series)\n",
    "    balsheet_q['ticker'] = balsheet.iloc[0,0]\n",
    "    balsheet_q_cols = balsheet_q.columns.tolist()\n",
    "    balsheet_q_cols = balsheet_q_cols[-1:] + balsheet_q_cols[:-1]\n",
    "    balsheet_q = balsheet_q[balsheet_q_cols]\n",
    "    return balsheet_q\n",
    "\n",
    "clean_balsheet(balsheet_json_test)\n"
   ],
   "metadata": {
    "collapsed": false,
    "pycharm": {
     "name": "#%%\n"
    }
   }
  },
  {
   "cell_type": "markdown",
   "source": [
    "Cash Flow"
   ],
   "metadata": {
    "collapsed": false,
    "pycharm": {
     "name": "#%% md\n"
    }
   }
  },
  {
   "cell_type": "code",
   "execution_count": 81,
   "outputs": [],
   "source": [
    "cashflow_json_test = get_cash_flow(test,avkey)"
   ],
   "metadata": {
    "collapsed": false,
    "pycharm": {
     "name": "#%%\n"
    }
   }
  },
  {
   "cell_type": "code",
   "execution_count": 82,
   "outputs": [
    {
     "data": {
      "text/plain": "   ticker fiscalDateEnding reportedCurrency operatingCashflow  \\\n0       A       2022-07-31              USD         326000000   \n1       A       2022-04-30              USD         283000000   \n2       A       2022-01-31              USD         255000000   \n3       A       2021-10-31              USD         441000000   \n4       A       2021-07-31              USD         334000000   \n5       A       2021-04-30              USD         472000000   \n6       A       2021-01-31              USD         238000000   \n7       A       2020-10-31              USD         377000000   \n8       A       2020-07-31              USD         290000000   \n9       A       2020-04-30              USD         313000000   \n10      A       2020-01-31              USD         -59000000   \n11      A       2019-10-31              USD         314000000   \n12      A       2019-07-31              USD         242000000   \n13      A       2019-04-30              USD         252000000   \n14      A       2019-01-31              USD         213000000   \n15      A       2018-10-31              USD         372000000   \n16      A       2018-07-31              USD         197000000   \n17      A       2018-04-30              USD         303000000   \n18      A       2018-01-31              USD         215000000   \n19      A       2017-10-31              USD         288000000   \n\n   paymentsForOperatingActivities proceedsFromOperatingActivities  \\\n0                        16000000                            None   \n1                        22000000                            None   \n2                        18000000                            None   \n3                        23000000                            None   \n4                        17000000                            None   \n5                        17000000                            None   \n6                        19000000                            None   \n7                       379000000                            None   \n8                        14000000                            None   \n9                        22000000                            None   \n10                       17000000                            None   \n11                      178000000                            None   \n12                       25000000                            None   \n13                       11000000                            None   \n14                       25000000                            None   \n15                      114000000                            None   \n16                       25000000                            None   \n17                       14000000                            None   \n18                       29000000                            None   \n19                       76000000                            None   \n\n   changeInOperatingLiabilities changeInOperatingAssets  \\\n0                     161000000               207000000   \n1                     195000000               132000000   \n2                      47000000               100000000   \n3                     137000000                80000000   \n4                      93000000                87000000   \n5                     200000000                31000000   \n6                     152000000                66000000   \n7                     114000000                90000000   \n8                      35000000                25000000   \n9                     144000000               -12000000   \n10                     85000000                72000000   \n11                    127000000                53000000   \n12                    249000000               127000000   \n13                    224000000                -4000000   \n14                     61000000               -34000000   \n15                    104000000               223000000   \n16                    -12000000               -20000000   \n17                     44000000               -16000000   \n18                    -65000000               -39000000   \n19                         None               221000000   \n\n   depreciationDepletionAndAmortization capitalExpenditures  ...  \\\n0                              80000000            82000000  ...   \n1                              82000000            64000000  ...   \n2                              82000000            75000000  ...   \n3                              84000000            62000000  ...   \n4                              84000000            55000000  ...   \n5                              77000000            31000000  ...   \n6                              76000000            41000000  ...   \n7                              76000000            27000000  ...   \n8                              77000000            25000000  ...   \n9                              76000000            33000000  ...   \n10                             79000000            34000000  ...   \n11                             76000000            30000000  ...   \n12                             55000000            48000000  ...   \n13                             53000000            39000000  ...   \n14                             54000000            39000000  ...   \n15                             56000000            36000000  ...   \n16                             53000000            33000000  ...   \n17                             50000000            48000000  ...   \n18                             51000000            60000000  ...   \n19                             52000000            58000000  ...   \n\n   dividendPayoutCommonStock dividendPayoutPreferredStock  \\\n0                   62000000                         None   \n1                   63000000                         None   \n2                   63000000                         None   \n3                   59000000                         None   \n4                   59000000                         None   \n5                   59000000                         None   \n6                   59000000                         None   \n7                   55000000                         None   \n8                   56000000                         None   \n9                   55000000                         None   \n10                  56000000                         None   \n11                  51000000                         None   \n12                  51000000                         None   \n13                  52000000                         None   \n14                  52000000                         None   \n15                  47000000                         None   \n16                  48000000                         None   \n17                  48000000                         None   \n18                  48000000                         None   \n19                  43000000                         None   \n\n   proceedsFromIssuanceOfCommonStock  \\\n0                               None   \n1                               None   \n2                               None   \n3                               None   \n4                               None   \n5                               None   \n6                               None   \n7                               None   \n8                               None   \n9                               None   \n10                              None   \n11                              None   \n12                              None   \n13                              None   \n14                              None   \n15                              None   \n16                              None   \n17                              None   \n18                              None   \n19                              None   \n\n   proceedsFromIssuanceOfLongTermDebtAndCapitalSecuritiesNet  \\\n0                                                None          \n1                                                None          \n2                                                None          \n3                                                None          \n4                                                None          \n5                                                None          \n6                                                None          \n7                                                None          \n8                                                None          \n9                                                None          \n10                                               None          \n11                                               None          \n12                                               None          \n13                                               None          \n14                                               None          \n15                                               None          \n16                                               None          \n17                                               None          \n18                                               None          \n19                                               None          \n\n   proceedsFromIssuanceOfPreferredStock proceedsFromRepurchaseOfEquity  \\\n0                                  None                     -295000000   \n1                                  None                     -234000000   \n2                                  None                     -420000000   \n3                                  None                     -133000000   \n4                                  None                      -87000000   \n5                                  None                     -194000000   \n6                                  None                     -319000000   \n7                                  None                     -246000000   \n8                                  None                       -9000000   \n9                                  None                     -126000000   \n10                                 None                      -28000000   \n11                                 None                      -47000000   \n12                                 None                     -530000000   \n13                                 None                      -39000000   \n14                                 None                      -53000000   \n15                                 None                      -83000000   \n16                                 None                     -226000000   \n17                                 None                      -35000000   \n18                                 None                      -22000000   \n19                                 None                        8000000   \n\n   proceedsFromSaleOfTreasuryStock changeInCashAndCashEquivalents  \\\n0                             None                           None   \n1                             None                      260000000   \n2                             None                     -374000000   \n3                             None                       55000000   \n4                             None                      258000000   \n5                             None                      203000000   \n6                             None                     -111000000   \n7                             None                       83000000   \n8                             None                      188000000   \n9                             None                       92000000   \n10                            None                     -156000000   \n11                            None                     -383000000   \n12                            None                      165000000   \n13                            None                      380000000   \n14                            None                     -190000000   \n15                            None                      116000000   \n16                            None                     -880000000   \n17                            None                      124000000   \n18                            None                      209000000   \n19                            None                      115000000   \n\n   changeInExchangeRate   netIncome  \n0                  None   329000000  \n1                  None   274000000  \n2              -4000000   283000000  \n3              -3000000   442000000  \n4              -3000000   264000000  \n5                     0   216000000  \n6               9000000   288000000  \n7               2000000   222000000  \n8               8000000   199000000  \n9              -7000000   101000000  \n10             -1000000   197000000  \n11             -1000000   194000000  \n12              1000000   191000000  \n13             -7000000   182000000  \n14              9000000   504000000  \n15            -12000000   195000000  \n16            -14000000   236000000  \n17            -16000000   205000000  \n18             25000000  -320000000  \n19             -6000000   177000000  \n\n[20 rows x 30 columns]",
      "text/html": "<div>\n<style scoped>\n    .dataframe tbody tr th:only-of-type {\n        vertical-align: middle;\n    }\n\n    .dataframe tbody tr th {\n        vertical-align: top;\n    }\n\n    .dataframe thead th {\n        text-align: right;\n    }\n</style>\n<table border=\"1\" class=\"dataframe\">\n  <thead>\n    <tr style=\"text-align: right;\">\n      <th></th>\n      <th>ticker</th>\n      <th>fiscalDateEnding</th>\n      <th>reportedCurrency</th>\n      <th>operatingCashflow</th>\n      <th>paymentsForOperatingActivities</th>\n      <th>proceedsFromOperatingActivities</th>\n      <th>changeInOperatingLiabilities</th>\n      <th>changeInOperatingAssets</th>\n      <th>depreciationDepletionAndAmortization</th>\n      <th>capitalExpenditures</th>\n      <th>...</th>\n      <th>dividendPayoutCommonStock</th>\n      <th>dividendPayoutPreferredStock</th>\n      <th>proceedsFromIssuanceOfCommonStock</th>\n      <th>proceedsFromIssuanceOfLongTermDebtAndCapitalSecuritiesNet</th>\n      <th>proceedsFromIssuanceOfPreferredStock</th>\n      <th>proceedsFromRepurchaseOfEquity</th>\n      <th>proceedsFromSaleOfTreasuryStock</th>\n      <th>changeInCashAndCashEquivalents</th>\n      <th>changeInExchangeRate</th>\n      <th>netIncome</th>\n    </tr>\n  </thead>\n  <tbody>\n    <tr>\n      <th>0</th>\n      <td>A</td>\n      <td>2022-07-31</td>\n      <td>USD</td>\n      <td>326000000</td>\n      <td>16000000</td>\n      <td>None</td>\n      <td>161000000</td>\n      <td>207000000</td>\n      <td>80000000</td>\n      <td>82000000</td>\n      <td>...</td>\n      <td>62000000</td>\n      <td>None</td>\n      <td>None</td>\n      <td>None</td>\n      <td>None</td>\n      <td>-295000000</td>\n      <td>None</td>\n      <td>None</td>\n      <td>None</td>\n      <td>329000000</td>\n    </tr>\n    <tr>\n      <th>1</th>\n      <td>A</td>\n      <td>2022-04-30</td>\n      <td>USD</td>\n      <td>283000000</td>\n      <td>22000000</td>\n      <td>None</td>\n      <td>195000000</td>\n      <td>132000000</td>\n      <td>82000000</td>\n      <td>64000000</td>\n      <td>...</td>\n      <td>63000000</td>\n      <td>None</td>\n      <td>None</td>\n      <td>None</td>\n      <td>None</td>\n      <td>-234000000</td>\n      <td>None</td>\n      <td>260000000</td>\n      <td>None</td>\n      <td>274000000</td>\n    </tr>\n    <tr>\n      <th>2</th>\n      <td>A</td>\n      <td>2022-01-31</td>\n      <td>USD</td>\n      <td>255000000</td>\n      <td>18000000</td>\n      <td>None</td>\n      <td>47000000</td>\n      <td>100000000</td>\n      <td>82000000</td>\n      <td>75000000</td>\n      <td>...</td>\n      <td>63000000</td>\n      <td>None</td>\n      <td>None</td>\n      <td>None</td>\n      <td>None</td>\n      <td>-420000000</td>\n      <td>None</td>\n      <td>-374000000</td>\n      <td>-4000000</td>\n      <td>283000000</td>\n    </tr>\n    <tr>\n      <th>3</th>\n      <td>A</td>\n      <td>2021-10-31</td>\n      <td>USD</td>\n      <td>441000000</td>\n      <td>23000000</td>\n      <td>None</td>\n      <td>137000000</td>\n      <td>80000000</td>\n      <td>84000000</td>\n      <td>62000000</td>\n      <td>...</td>\n      <td>59000000</td>\n      <td>None</td>\n      <td>None</td>\n      <td>None</td>\n      <td>None</td>\n      <td>-133000000</td>\n      <td>None</td>\n      <td>55000000</td>\n      <td>-3000000</td>\n      <td>442000000</td>\n    </tr>\n    <tr>\n      <th>4</th>\n      <td>A</td>\n      <td>2021-07-31</td>\n      <td>USD</td>\n      <td>334000000</td>\n      <td>17000000</td>\n      <td>None</td>\n      <td>93000000</td>\n      <td>87000000</td>\n      <td>84000000</td>\n      <td>55000000</td>\n      <td>...</td>\n      <td>59000000</td>\n      <td>None</td>\n      <td>None</td>\n      <td>None</td>\n      <td>None</td>\n      <td>-87000000</td>\n      <td>None</td>\n      <td>258000000</td>\n      <td>-3000000</td>\n      <td>264000000</td>\n    </tr>\n    <tr>\n      <th>5</th>\n      <td>A</td>\n      <td>2021-04-30</td>\n      <td>USD</td>\n      <td>472000000</td>\n      <td>17000000</td>\n      <td>None</td>\n      <td>200000000</td>\n      <td>31000000</td>\n      <td>77000000</td>\n      <td>31000000</td>\n      <td>...</td>\n      <td>59000000</td>\n      <td>None</td>\n      <td>None</td>\n      <td>None</td>\n      <td>None</td>\n      <td>-194000000</td>\n      <td>None</td>\n      <td>203000000</td>\n      <td>0</td>\n      <td>216000000</td>\n    </tr>\n    <tr>\n      <th>6</th>\n      <td>A</td>\n      <td>2021-01-31</td>\n      <td>USD</td>\n      <td>238000000</td>\n      <td>19000000</td>\n      <td>None</td>\n      <td>152000000</td>\n      <td>66000000</td>\n      <td>76000000</td>\n      <td>41000000</td>\n      <td>...</td>\n      <td>59000000</td>\n      <td>None</td>\n      <td>None</td>\n      <td>None</td>\n      <td>None</td>\n      <td>-319000000</td>\n      <td>None</td>\n      <td>-111000000</td>\n      <td>9000000</td>\n      <td>288000000</td>\n    </tr>\n    <tr>\n      <th>7</th>\n      <td>A</td>\n      <td>2020-10-31</td>\n      <td>USD</td>\n      <td>377000000</td>\n      <td>379000000</td>\n      <td>None</td>\n      <td>114000000</td>\n      <td>90000000</td>\n      <td>76000000</td>\n      <td>27000000</td>\n      <td>...</td>\n      <td>55000000</td>\n      <td>None</td>\n      <td>None</td>\n      <td>None</td>\n      <td>None</td>\n      <td>-246000000</td>\n      <td>None</td>\n      <td>83000000</td>\n      <td>2000000</td>\n      <td>222000000</td>\n    </tr>\n    <tr>\n      <th>8</th>\n      <td>A</td>\n      <td>2020-07-31</td>\n      <td>USD</td>\n      <td>290000000</td>\n      <td>14000000</td>\n      <td>None</td>\n      <td>35000000</td>\n      <td>25000000</td>\n      <td>77000000</td>\n      <td>25000000</td>\n      <td>...</td>\n      <td>56000000</td>\n      <td>None</td>\n      <td>None</td>\n      <td>None</td>\n      <td>None</td>\n      <td>-9000000</td>\n      <td>None</td>\n      <td>188000000</td>\n      <td>8000000</td>\n      <td>199000000</td>\n    </tr>\n    <tr>\n      <th>9</th>\n      <td>A</td>\n      <td>2020-04-30</td>\n      <td>USD</td>\n      <td>313000000</td>\n      <td>22000000</td>\n      <td>None</td>\n      <td>144000000</td>\n      <td>-12000000</td>\n      <td>76000000</td>\n      <td>33000000</td>\n      <td>...</td>\n      <td>55000000</td>\n      <td>None</td>\n      <td>None</td>\n      <td>None</td>\n      <td>None</td>\n      <td>-126000000</td>\n      <td>None</td>\n      <td>92000000</td>\n      <td>-7000000</td>\n      <td>101000000</td>\n    </tr>\n    <tr>\n      <th>10</th>\n      <td>A</td>\n      <td>2020-01-31</td>\n      <td>USD</td>\n      <td>-59000000</td>\n      <td>17000000</td>\n      <td>None</td>\n      <td>85000000</td>\n      <td>72000000</td>\n      <td>79000000</td>\n      <td>34000000</td>\n      <td>...</td>\n      <td>56000000</td>\n      <td>None</td>\n      <td>None</td>\n      <td>None</td>\n      <td>None</td>\n      <td>-28000000</td>\n      <td>None</td>\n      <td>-156000000</td>\n      <td>-1000000</td>\n      <td>197000000</td>\n    </tr>\n    <tr>\n      <th>11</th>\n      <td>A</td>\n      <td>2019-10-31</td>\n      <td>USD</td>\n      <td>314000000</td>\n      <td>178000000</td>\n      <td>None</td>\n      <td>127000000</td>\n      <td>53000000</td>\n      <td>76000000</td>\n      <td>30000000</td>\n      <td>...</td>\n      <td>51000000</td>\n      <td>None</td>\n      <td>None</td>\n      <td>None</td>\n      <td>None</td>\n      <td>-47000000</td>\n      <td>None</td>\n      <td>-383000000</td>\n      <td>-1000000</td>\n      <td>194000000</td>\n    </tr>\n    <tr>\n      <th>12</th>\n      <td>A</td>\n      <td>2019-07-31</td>\n      <td>USD</td>\n      <td>242000000</td>\n      <td>25000000</td>\n      <td>None</td>\n      <td>249000000</td>\n      <td>127000000</td>\n      <td>55000000</td>\n      <td>48000000</td>\n      <td>...</td>\n      <td>51000000</td>\n      <td>None</td>\n      <td>None</td>\n      <td>None</td>\n      <td>None</td>\n      <td>-530000000</td>\n      <td>None</td>\n      <td>165000000</td>\n      <td>1000000</td>\n      <td>191000000</td>\n    </tr>\n    <tr>\n      <th>13</th>\n      <td>A</td>\n      <td>2019-04-30</td>\n      <td>USD</td>\n      <td>252000000</td>\n      <td>11000000</td>\n      <td>None</td>\n      <td>224000000</td>\n      <td>-4000000</td>\n      <td>53000000</td>\n      <td>39000000</td>\n      <td>...</td>\n      <td>52000000</td>\n      <td>None</td>\n      <td>None</td>\n      <td>None</td>\n      <td>None</td>\n      <td>-39000000</td>\n      <td>None</td>\n      <td>380000000</td>\n      <td>-7000000</td>\n      <td>182000000</td>\n    </tr>\n    <tr>\n      <th>14</th>\n      <td>A</td>\n      <td>2019-01-31</td>\n      <td>USD</td>\n      <td>213000000</td>\n      <td>25000000</td>\n      <td>None</td>\n      <td>61000000</td>\n      <td>-34000000</td>\n      <td>54000000</td>\n      <td>39000000</td>\n      <td>...</td>\n      <td>52000000</td>\n      <td>None</td>\n      <td>None</td>\n      <td>None</td>\n      <td>None</td>\n      <td>-53000000</td>\n      <td>None</td>\n      <td>-190000000</td>\n      <td>9000000</td>\n      <td>504000000</td>\n    </tr>\n    <tr>\n      <th>15</th>\n      <td>A</td>\n      <td>2018-10-31</td>\n      <td>USD</td>\n      <td>372000000</td>\n      <td>114000000</td>\n      <td>None</td>\n      <td>104000000</td>\n      <td>223000000</td>\n      <td>56000000</td>\n      <td>36000000</td>\n      <td>...</td>\n      <td>47000000</td>\n      <td>None</td>\n      <td>None</td>\n      <td>None</td>\n      <td>None</td>\n      <td>-83000000</td>\n      <td>None</td>\n      <td>116000000</td>\n      <td>-12000000</td>\n      <td>195000000</td>\n    </tr>\n    <tr>\n      <th>16</th>\n      <td>A</td>\n      <td>2018-07-31</td>\n      <td>USD</td>\n      <td>197000000</td>\n      <td>25000000</td>\n      <td>None</td>\n      <td>-12000000</td>\n      <td>-20000000</td>\n      <td>53000000</td>\n      <td>33000000</td>\n      <td>...</td>\n      <td>48000000</td>\n      <td>None</td>\n      <td>None</td>\n      <td>None</td>\n      <td>None</td>\n      <td>-226000000</td>\n      <td>None</td>\n      <td>-880000000</td>\n      <td>-14000000</td>\n      <td>236000000</td>\n    </tr>\n    <tr>\n      <th>17</th>\n      <td>A</td>\n      <td>2018-04-30</td>\n      <td>USD</td>\n      <td>303000000</td>\n      <td>14000000</td>\n      <td>None</td>\n      <td>44000000</td>\n      <td>-16000000</td>\n      <td>50000000</td>\n      <td>48000000</td>\n      <td>...</td>\n      <td>48000000</td>\n      <td>None</td>\n      <td>None</td>\n      <td>None</td>\n      <td>None</td>\n      <td>-35000000</td>\n      <td>None</td>\n      <td>124000000</td>\n      <td>-16000000</td>\n      <td>205000000</td>\n    </tr>\n    <tr>\n      <th>18</th>\n      <td>A</td>\n      <td>2018-01-31</td>\n      <td>USD</td>\n      <td>215000000</td>\n      <td>29000000</td>\n      <td>None</td>\n      <td>-65000000</td>\n      <td>-39000000</td>\n      <td>51000000</td>\n      <td>60000000</td>\n      <td>...</td>\n      <td>48000000</td>\n      <td>None</td>\n      <td>None</td>\n      <td>None</td>\n      <td>None</td>\n      <td>-22000000</td>\n      <td>None</td>\n      <td>209000000</td>\n      <td>25000000</td>\n      <td>-320000000</td>\n    </tr>\n    <tr>\n      <th>19</th>\n      <td>A</td>\n      <td>2017-10-31</td>\n      <td>USD</td>\n      <td>288000000</td>\n      <td>76000000</td>\n      <td>None</td>\n      <td>None</td>\n      <td>221000000</td>\n      <td>52000000</td>\n      <td>58000000</td>\n      <td>...</td>\n      <td>43000000</td>\n      <td>None</td>\n      <td>None</td>\n      <td>None</td>\n      <td>None</td>\n      <td>8000000</td>\n      <td>None</td>\n      <td>115000000</td>\n      <td>-6000000</td>\n      <td>177000000</td>\n    </tr>\n  </tbody>\n</table>\n<p>20 rows × 30 columns</p>\n</div>"
     },
     "execution_count": 82,
     "metadata": {},
     "output_type": "execute_result"
    }
   ],
   "source": [
    "def clean_cashflow(json_file):\n",
    "    cashflow = pd.json_normalize(json_file, max_level=1)\n",
    "    cashflow_q = cashflow['quarterlyReports'].apply(pd.Series).transpose()\n",
    "    cashflow_q = cashflow_q[0].apply(pd.Series)\n",
    "    cashflow_q['ticker'] = cashflow.iloc[0,0]\n",
    "    cashflow_q_cols = cashflow_q.columns.tolist()\n",
    "    cashflow_q_cols = cashflow_q_cols[-1:] + cashflow_q_cols[:-1]\n",
    "    cashflow_q = cashflow_q[cashflow_q_cols]\n",
    "    return cashflow_q\n",
    "\n",
    "clean_cashflow(cashflow_json_test)"
   ],
   "metadata": {
    "collapsed": false,
    "pycharm": {
     "name": "#%%\n"
    }
   }
  },
  {
   "cell_type": "code",
   "execution_count": 83,
   "outputs": [],
   "source": [
    "earnings_json_test = get_earnings(test,avkey)"
   ],
   "metadata": {
    "collapsed": false,
    "pycharm": {
     "name": "#%%\n"
    }
   }
  },
  {
   "cell_type": "code",
   "execution_count": 84,
   "outputs": [
    {
     "data": {
      "text/plain": "   ticker fiscalDateEnding reportedDate reportedEPS estimatedEPS surprise  \\\n0       A       2022-10-31   2022-11-21        1.53         1.39     0.14   \n1       A       2022-07-31   2022-08-16        1.34          1.2     0.14   \n2       A       2022-04-30   2022-05-24        1.13         1.12     0.01   \n3       A       2022-01-31   2022-02-22        1.21         1.18     0.03   \n4       A       2021-10-31   2021-11-22        1.21         1.18     0.03   \n..    ...              ...          ...         ...          ...      ...   \n87      A       2001-01-31   2001-02-20        0.51         0.45     0.06   \n88      A       2000-10-31   2000-11-20        0.73         0.54     0.19   \n89      A       2000-07-31   2000-08-17        0.39          0.2     0.19   \n90      A       2000-04-30   2000-05-16        0.35         0.32     0.03   \n91      A       2000-01-31   2000-02-17         0.3         0.22     0.08   \n\n   surprisePercentage  \n0             10.0719  \n1             11.6667  \n2              0.8929  \n3              2.5424  \n4              2.5424  \n..                ...  \n87            13.3333  \n88            35.1852  \n89                 95  \n90              9.375  \n91            36.3636  \n\n[92 rows x 7 columns]",
      "text/html": "<div>\n<style scoped>\n    .dataframe tbody tr th:only-of-type {\n        vertical-align: middle;\n    }\n\n    .dataframe tbody tr th {\n        vertical-align: top;\n    }\n\n    .dataframe thead th {\n        text-align: right;\n    }\n</style>\n<table border=\"1\" class=\"dataframe\">\n  <thead>\n    <tr style=\"text-align: right;\">\n      <th></th>\n      <th>ticker</th>\n      <th>fiscalDateEnding</th>\n      <th>reportedDate</th>\n      <th>reportedEPS</th>\n      <th>estimatedEPS</th>\n      <th>surprise</th>\n      <th>surprisePercentage</th>\n    </tr>\n  </thead>\n  <tbody>\n    <tr>\n      <th>0</th>\n      <td>A</td>\n      <td>2022-10-31</td>\n      <td>2022-11-21</td>\n      <td>1.53</td>\n      <td>1.39</td>\n      <td>0.14</td>\n      <td>10.0719</td>\n    </tr>\n    <tr>\n      <th>1</th>\n      <td>A</td>\n      <td>2022-07-31</td>\n      <td>2022-08-16</td>\n      <td>1.34</td>\n      <td>1.2</td>\n      <td>0.14</td>\n      <td>11.6667</td>\n    </tr>\n    <tr>\n      <th>2</th>\n      <td>A</td>\n      <td>2022-04-30</td>\n      <td>2022-05-24</td>\n      <td>1.13</td>\n      <td>1.12</td>\n      <td>0.01</td>\n      <td>0.8929</td>\n    </tr>\n    <tr>\n      <th>3</th>\n      <td>A</td>\n      <td>2022-01-31</td>\n      <td>2022-02-22</td>\n      <td>1.21</td>\n      <td>1.18</td>\n      <td>0.03</td>\n      <td>2.5424</td>\n    </tr>\n    <tr>\n      <th>4</th>\n      <td>A</td>\n      <td>2021-10-31</td>\n      <td>2021-11-22</td>\n      <td>1.21</td>\n      <td>1.18</td>\n      <td>0.03</td>\n      <td>2.5424</td>\n    </tr>\n    <tr>\n      <th>...</th>\n      <td>...</td>\n      <td>...</td>\n      <td>...</td>\n      <td>...</td>\n      <td>...</td>\n      <td>...</td>\n      <td>...</td>\n    </tr>\n    <tr>\n      <th>87</th>\n      <td>A</td>\n      <td>2001-01-31</td>\n      <td>2001-02-20</td>\n      <td>0.51</td>\n      <td>0.45</td>\n      <td>0.06</td>\n      <td>13.3333</td>\n    </tr>\n    <tr>\n      <th>88</th>\n      <td>A</td>\n      <td>2000-10-31</td>\n      <td>2000-11-20</td>\n      <td>0.73</td>\n      <td>0.54</td>\n      <td>0.19</td>\n      <td>35.1852</td>\n    </tr>\n    <tr>\n      <th>89</th>\n      <td>A</td>\n      <td>2000-07-31</td>\n      <td>2000-08-17</td>\n      <td>0.39</td>\n      <td>0.2</td>\n      <td>0.19</td>\n      <td>95</td>\n    </tr>\n    <tr>\n      <th>90</th>\n      <td>A</td>\n      <td>2000-04-30</td>\n      <td>2000-05-16</td>\n      <td>0.35</td>\n      <td>0.32</td>\n      <td>0.03</td>\n      <td>9.375</td>\n    </tr>\n    <tr>\n      <th>91</th>\n      <td>A</td>\n      <td>2000-01-31</td>\n      <td>2000-02-17</td>\n      <td>0.3</td>\n      <td>0.22</td>\n      <td>0.08</td>\n      <td>36.3636</td>\n    </tr>\n  </tbody>\n</table>\n<p>92 rows × 7 columns</p>\n</div>"
     },
     "execution_count": 84,
     "metadata": {},
     "output_type": "execute_result"
    }
   ],
   "source": [
    "def clean_earnings(json_file):\n",
    "    earnings = pd.json_normalize(json_file, max_level=1)\n",
    "    earnings_q = earnings['quarterlyEarnings'].apply(pd.Series).transpose()\n",
    "    earnings_q = earnings_q[0].apply(pd.Series)\n",
    "    earnings_q['ticker'] = earnings.iloc[0,0]\n",
    "    earnings_q_cols = earnings_q.columns.tolist()\n",
    "    earnings_q_cols = earnings_q_cols[-1:]+earnings_q_cols[:-1]\n",
    "    earnings_q = earnings_q[earnings_q_cols]\n",
    "    return earnings_q\n",
    "\n",
    "clean_earnings(earnings_json_test)"
   ],
   "metadata": {
    "collapsed": false,
    "pycharm": {
     "name": "#%%\n"
    }
   }
  },
  {
   "cell_type": "code",
   "execution_count": 86,
   "outputs": [
    {
     "data": {
      "text/plain": "['A',\n 'AACI',\n 'AADI',\n 'AAL',\n 'AAME',\n 'AAOI',\n 'AAON',\n 'AAPL',\n 'AAT',\n 'AATC',\n 'AAWW',\n 'ABBV',\n 'ABC',\n 'ABCB',\n 'ABEO',\n 'ABG',\n 'ABIO',\n 'ABM',\n 'ABMD',\n 'ABNB',\n 'ABOS',\n 'ABR',\n 'ABSI',\n 'ABT',\n 'ABVC',\n 'AC',\n 'ACAB',\n 'ACAC',\n 'ACAD',\n 'ACAH',\n 'ACAX',\n 'ACCD',\n 'ACCO',\n 'ACDC',\n 'ACER',\n 'ACET',\n 'ACHC',\n 'ACHR',\n 'ACI',\n 'ACIW',\n 'ACLS',\n 'ACLX',\n 'ACM',\n 'ACMR',\n 'ACNB',\n 'ACNT',\n 'ACON',\n 'ACOR',\n 'ACR',\n 'ACRE',\n 'ACRS',\n 'ACRV',\n 'ACRX',\n 'ACT',\n 'ACTG',\n 'ACU',\n 'ACVA',\n 'ACXP',\n 'ADBE',\n 'ADC',\n 'ADEA',\n 'ADER',\n 'ADES',\n 'ADI',\n 'ADIL',\n 'ADM',\n 'ADMA',\n 'ADMP',\n 'ADN',\n 'ADP',\n 'ADPT',\n 'ADRA',\n 'ADSK',\n 'ADT',\n 'ADTH',\n 'ADTN',\n 'ADTX',\n 'ADUS',\n 'ADV',\n 'ADVM',\n 'AE',\n 'AEAE',\n 'AEE',\n 'AEF',\n 'AEHA',\n 'AEHR',\n 'AEI',\n 'AEIS',\n 'AEL',\n 'AEMD',\n 'AEO',\n 'AEP',\n 'AERC',\n 'AES',\n 'AEY',\n 'AEYE',\n 'AFAC',\n 'AFAQ',\n 'AFBI',\n 'AFCG']"
     },
     "execution_count": 86,
     "metadata": {},
     "output_type": "execute_result"
    }
   ],
   "source": [
    "companies_list[0:100]"
   ],
   "metadata": {
    "collapsed": false,
    "pycharm": {
     "name": "#%%\n"
    }
   }
  },
  {
   "cell_type": "markdown",
   "source": [
    "Try to get first 100 overviews :"
   ],
   "metadata": {
    "collapsed": false,
    "pycharm": {
     "name": "#%% md\n"
    }
   }
  },
  {
   "cell_type": "code",
   "execution_count": 105,
   "outputs": [
    {
     "data": {
      "text/plain": "   Symbol     AssetType                           Name  \\\n0       A  Common Stock       Agilent Technologies Inc   \n0    AACI  Common Stock      Armada Acquisition Corp I   \n0    AADI  Common Stock            Aadi Bioscience Inc   \n0     AAL  Common Stock        American Airlines Group   \n0    AAME  Common Stock  Atlantic American Corporation   \n..    ...           ...                            ...   \n0    ZUMZ  Common Stock                     Zumiez Inc   \n0    ZWRK  Common Stock        Z-Work Acquisition Corp   \n0     ZWS  Common Stock      Zurn Water Solutions Corp   \n0    ZYNE  Common Stock    Zynerba Pharmaceuticals Inc   \n0    ZYXI  Common Stock                      Zynex Inc   \n\n                                          Description      CIK Exchange  \\\n0   Agilent Technologies, Inc. is an American anal...  1090872     NYSE   \n0                                                None  1844817   NASDAQ   \n0                                                None  1422142   NASDAQ   \n0   American Airlines Group Inc. is an American pu...     6201   NASDAQ   \n0   Atlantic American Corporation provides life an...     8177   NASDAQ   \n..                                                ...      ...      ...   \n0   Zumiez Inc., is a specialty retailer of clothi...  1318008   NASDAQ   \n0   Z-Work Acquisition Corp. The company is headqu...  1828438   NASDAQ   \n0   Zurn Water Solutions Corporation designs, acqu...  1439288     NYSE   \n0   Zynerba Pharmaceuticals, Inc. is a specialty c...  1621443   NASDAQ   \n0   Zynex, Inc. designs, manufactures and markets ...   846475   NASDAQ   \n\n   Currency Country                      Sector  \\\n0       USD     USA               LIFE SCIENCES   \n0       USD     USA  REAL ESTATE & CONSTRUCTION   \n0       USD     USA               LIFE SCIENCES   \n0       USD     USA     ENERGY & TRANSPORTATION   \n0       USD     USA                     FINANCE   \n..      ...     ...                         ...   \n0       USD     USA            TRADE & SERVICES   \n0       USD     USA  REAL ESTATE & CONSTRUCTION   \n0       USD     USA                  TECHNOLOGY   \n0       USD     USA               LIFE SCIENCES   \n0       USD     USA               LIFE SCIENCES   \n\n                                             Industry  ...   Beta 52WeekHigh  \\\n0   INSTRUMENTS FOR MEAS & TESTING OF ELECTRICITY ...  ...  1.061     161.59   \n0                                        BLANK CHECKS  ...   None       10.1   \n0                         PHARMACEUTICAL PREPARATIONS  ...   None       26.6   \n0                       AIR TRANSPORTATION, SCHEDULED  ...  1.488      21.42   \n0                                      LIFE INSURANCE  ...  0.288      3.879   \n..                                                ...  ...    ...        ...   \n0                   RETAIL-APPAREL & ACCESSORY STORES  ...  1.473      49.98   \n0                                        BLANK CHECKS  ...   None      10.04   \n0            GENERAL INDUSTRIAL MACHINERY & EQUIPMENT  ...  1.062       37.5   \n0                         PHARMACEUTICAL PREPARATIONS  ...  1.817       3.61   \n0       ELECTROMEDICAL & ELECTROTHERAPEUTIC APPARATUS  ...  0.785      14.55   \n\n   52WeekLow 50DayMovingAverage 200DayMovingAverage SharesOutstanding  \\\n0     112.13             137.07               129.8         295000000   \n0       9.74               9.95                9.89          20709500   \n0         11               13.2               14.37          24395100   \n0      11.65              13.56               15.09         649901000   \n0      2.108              2.889               2.896          20367200   \n..       ...                ...                 ...               ...   \n0      20.29              22.38               30.07          19470400   \n0       9.68               9.95                9.85          23000000   \n0      21.33              24.11                28.9         177795000   \n0        0.5              0.679               1.218          47062700   \n0       4.97              11.09                8.39          38500000   \n\n   DividendDate ExDividendDate Information Error Message  \n0    2023-01-25     2022-12-30         NaN           NaN  \n0          None           None         NaN           NaN  \n0          None           None         NaN           NaN  \n0    2020-02-19     2020-02-04         NaN           NaN  \n0    2022-04-27     2022-04-12         NaN           NaN  \n..          ...            ...         ...           ...  \n0          None           None         NaN           NaN  \n0          None           None         NaN           NaN  \n0    2022-12-07     2022-11-17         NaN           NaN  \n0          None           None         NaN           NaN  \n0    2022-01-21     2022-01-05         NaN           NaN  \n\n[4215 rows x 48 columns]",
      "text/html": "<div>\n<style scoped>\n    .dataframe tbody tr th:only-of-type {\n        vertical-align: middle;\n    }\n\n    .dataframe tbody tr th {\n        vertical-align: top;\n    }\n\n    .dataframe thead th {\n        text-align: right;\n    }\n</style>\n<table border=\"1\" class=\"dataframe\">\n  <thead>\n    <tr style=\"text-align: right;\">\n      <th></th>\n      <th>Symbol</th>\n      <th>AssetType</th>\n      <th>Name</th>\n      <th>Description</th>\n      <th>CIK</th>\n      <th>Exchange</th>\n      <th>Currency</th>\n      <th>Country</th>\n      <th>Sector</th>\n      <th>Industry</th>\n      <th>...</th>\n      <th>Beta</th>\n      <th>52WeekHigh</th>\n      <th>52WeekLow</th>\n      <th>50DayMovingAverage</th>\n      <th>200DayMovingAverage</th>\n      <th>SharesOutstanding</th>\n      <th>DividendDate</th>\n      <th>ExDividendDate</th>\n      <th>Information</th>\n      <th>Error Message</th>\n    </tr>\n  </thead>\n  <tbody>\n    <tr>\n      <th>0</th>\n      <td>A</td>\n      <td>Common Stock</td>\n      <td>Agilent Technologies Inc</td>\n      <td>Agilent Technologies, Inc. is an American anal...</td>\n      <td>1090872</td>\n      <td>NYSE</td>\n      <td>USD</td>\n      <td>USA</td>\n      <td>LIFE SCIENCES</td>\n      <td>INSTRUMENTS FOR MEAS &amp; TESTING OF ELECTRICITY ...</td>\n      <td>...</td>\n      <td>1.061</td>\n      <td>161.59</td>\n      <td>112.13</td>\n      <td>137.07</td>\n      <td>129.8</td>\n      <td>295000000</td>\n      <td>2023-01-25</td>\n      <td>2022-12-30</td>\n      <td>NaN</td>\n      <td>NaN</td>\n    </tr>\n    <tr>\n      <th>0</th>\n      <td>AACI</td>\n      <td>Common Stock</td>\n      <td>Armada Acquisition Corp I</td>\n      <td>None</td>\n      <td>1844817</td>\n      <td>NASDAQ</td>\n      <td>USD</td>\n      <td>USA</td>\n      <td>REAL ESTATE &amp; CONSTRUCTION</td>\n      <td>BLANK CHECKS</td>\n      <td>...</td>\n      <td>None</td>\n      <td>10.1</td>\n      <td>9.74</td>\n      <td>9.95</td>\n      <td>9.89</td>\n      <td>20709500</td>\n      <td>None</td>\n      <td>None</td>\n      <td>NaN</td>\n      <td>NaN</td>\n    </tr>\n    <tr>\n      <th>0</th>\n      <td>AADI</td>\n      <td>Common Stock</td>\n      <td>Aadi Bioscience Inc</td>\n      <td>None</td>\n      <td>1422142</td>\n      <td>NASDAQ</td>\n      <td>USD</td>\n      <td>USA</td>\n      <td>LIFE SCIENCES</td>\n      <td>PHARMACEUTICAL PREPARATIONS</td>\n      <td>...</td>\n      <td>None</td>\n      <td>26.6</td>\n      <td>11</td>\n      <td>13.2</td>\n      <td>14.37</td>\n      <td>24395100</td>\n      <td>None</td>\n      <td>None</td>\n      <td>NaN</td>\n      <td>NaN</td>\n    </tr>\n    <tr>\n      <th>0</th>\n      <td>AAL</td>\n      <td>Common Stock</td>\n      <td>American Airlines Group</td>\n      <td>American Airlines Group Inc. is an American pu...</td>\n      <td>6201</td>\n      <td>NASDAQ</td>\n      <td>USD</td>\n      <td>USA</td>\n      <td>ENERGY &amp; TRANSPORTATION</td>\n      <td>AIR TRANSPORTATION, SCHEDULED</td>\n      <td>...</td>\n      <td>1.488</td>\n      <td>21.42</td>\n      <td>11.65</td>\n      <td>13.56</td>\n      <td>15.09</td>\n      <td>649901000</td>\n      <td>2020-02-19</td>\n      <td>2020-02-04</td>\n      <td>NaN</td>\n      <td>NaN</td>\n    </tr>\n    <tr>\n      <th>0</th>\n      <td>AAME</td>\n      <td>Common Stock</td>\n      <td>Atlantic American Corporation</td>\n      <td>Atlantic American Corporation provides life an...</td>\n      <td>8177</td>\n      <td>NASDAQ</td>\n      <td>USD</td>\n      <td>USA</td>\n      <td>FINANCE</td>\n      <td>LIFE INSURANCE</td>\n      <td>...</td>\n      <td>0.288</td>\n      <td>3.879</td>\n      <td>2.108</td>\n      <td>2.889</td>\n      <td>2.896</td>\n      <td>20367200</td>\n      <td>2022-04-27</td>\n      <td>2022-04-12</td>\n      <td>NaN</td>\n      <td>NaN</td>\n    </tr>\n    <tr>\n      <th>...</th>\n      <td>...</td>\n      <td>...</td>\n      <td>...</td>\n      <td>...</td>\n      <td>...</td>\n      <td>...</td>\n      <td>...</td>\n      <td>...</td>\n      <td>...</td>\n      <td>...</td>\n      <td>...</td>\n      <td>...</td>\n      <td>...</td>\n      <td>...</td>\n      <td>...</td>\n      <td>...</td>\n      <td>...</td>\n      <td>...</td>\n      <td>...</td>\n      <td>...</td>\n      <td>...</td>\n    </tr>\n    <tr>\n      <th>0</th>\n      <td>ZUMZ</td>\n      <td>Common Stock</td>\n      <td>Zumiez Inc</td>\n      <td>Zumiez Inc., is a specialty retailer of clothi...</td>\n      <td>1318008</td>\n      <td>NASDAQ</td>\n      <td>USD</td>\n      <td>USA</td>\n      <td>TRADE &amp; SERVICES</td>\n      <td>RETAIL-APPAREL &amp; ACCESSORY STORES</td>\n      <td>...</td>\n      <td>1.473</td>\n      <td>49.98</td>\n      <td>20.29</td>\n      <td>22.38</td>\n      <td>30.07</td>\n      <td>19470400</td>\n      <td>None</td>\n      <td>None</td>\n      <td>NaN</td>\n      <td>NaN</td>\n    </tr>\n    <tr>\n      <th>0</th>\n      <td>ZWRK</td>\n      <td>Common Stock</td>\n      <td>Z-Work Acquisition Corp</td>\n      <td>Z-Work Acquisition Corp. The company is headqu...</td>\n      <td>1828438</td>\n      <td>NASDAQ</td>\n      <td>USD</td>\n      <td>USA</td>\n      <td>REAL ESTATE &amp; CONSTRUCTION</td>\n      <td>BLANK CHECKS</td>\n      <td>...</td>\n      <td>None</td>\n      <td>10.04</td>\n      <td>9.68</td>\n      <td>9.95</td>\n      <td>9.85</td>\n      <td>23000000</td>\n      <td>None</td>\n      <td>None</td>\n      <td>NaN</td>\n      <td>NaN</td>\n    </tr>\n    <tr>\n      <th>0</th>\n      <td>ZWS</td>\n      <td>Common Stock</td>\n      <td>Zurn Water Solutions Corp</td>\n      <td>Zurn Water Solutions Corporation designs, acqu...</td>\n      <td>1439288</td>\n      <td>NYSE</td>\n      <td>USD</td>\n      <td>USA</td>\n      <td>TECHNOLOGY</td>\n      <td>GENERAL INDUSTRIAL MACHINERY &amp; EQUIPMENT</td>\n      <td>...</td>\n      <td>1.062</td>\n      <td>37.5</td>\n      <td>21.33</td>\n      <td>24.11</td>\n      <td>28.9</td>\n      <td>177795000</td>\n      <td>2022-12-07</td>\n      <td>2022-11-17</td>\n      <td>NaN</td>\n      <td>NaN</td>\n    </tr>\n    <tr>\n      <th>0</th>\n      <td>ZYNE</td>\n      <td>Common Stock</td>\n      <td>Zynerba Pharmaceuticals Inc</td>\n      <td>Zynerba Pharmaceuticals, Inc. is a specialty c...</td>\n      <td>1621443</td>\n      <td>NASDAQ</td>\n      <td>USD</td>\n      <td>USA</td>\n      <td>LIFE SCIENCES</td>\n      <td>PHARMACEUTICAL PREPARATIONS</td>\n      <td>...</td>\n      <td>1.817</td>\n      <td>3.61</td>\n      <td>0.5</td>\n      <td>0.679</td>\n      <td>1.218</td>\n      <td>47062700</td>\n      <td>None</td>\n      <td>None</td>\n      <td>NaN</td>\n      <td>NaN</td>\n    </tr>\n    <tr>\n      <th>0</th>\n      <td>ZYXI</td>\n      <td>Common Stock</td>\n      <td>Zynex Inc</td>\n      <td>Zynex, Inc. designs, manufactures and markets ...</td>\n      <td>846475</td>\n      <td>NASDAQ</td>\n      <td>USD</td>\n      <td>USA</td>\n      <td>LIFE SCIENCES</td>\n      <td>ELECTROMEDICAL &amp; ELECTROTHERAPEUTIC APPARATUS</td>\n      <td>...</td>\n      <td>0.785</td>\n      <td>14.55</td>\n      <td>4.97</td>\n      <td>11.09</td>\n      <td>8.39</td>\n      <td>38500000</td>\n      <td>2022-01-21</td>\n      <td>2022-01-05</td>\n      <td>NaN</td>\n      <td>NaN</td>\n    </tr>\n  </tbody>\n</table>\n<p>4215 rows × 48 columns</p>\n</div>"
     },
     "execution_count": 105,
     "metadata": {},
     "output_type": "execute_result"
    }
   ],
   "source": [
    "all_overviews = pd.DataFrame()\n",
    "all_overviews[overview_columns] = overview_columns\n",
    "\n",
    "for i in companies_list:\n",
    "    output = get_overview(i, avkey)\n",
    "    clean_output = clean_overview(output)\n",
    "    all_overviews = pd.concat([all_overviews, clean_output])\n",
    "\n",
    "all_overviews\n"
   ],
   "metadata": {
    "collapsed": false,
    "pycharm": {
     "name": "#%%\n"
    }
   }
  },
  {
   "cell_type": "code",
   "execution_count": 108,
   "outputs": [],
   "source": [
    "all_overviews.reset_index(inplace=True)"
   ],
   "metadata": {
    "collapsed": false,
    "pycharm": {
     "name": "#%%\n"
    }
   }
  },
  {
   "cell_type": "code",
   "execution_count": 112,
   "outputs": [],
   "source": [
    "all_overviews.to_csv('data/company_overview_raw.csv')"
   ],
   "metadata": {
    "collapsed": false,
    "pycharm": {
     "name": "#%%\n"
    }
   }
  },
  {
   "cell_type": "code",
   "execution_count": null,
   "outputs": [],
   "source": [],
   "metadata": {
    "collapsed": false,
    "pycharm": {
     "name": "#%%\n"
    }
   }
  }
 ],
 "metadata": {
  "kernelspec": {
   "display_name": "Python 3",
   "language": "python",
   "name": "python3"
  },
  "language_info": {
   "codemirror_mode": {
    "name": "ipython",
    "version": 2
   },
   "file_extension": ".py",
   "mimetype": "text/x-python",
   "name": "python",
   "nbconvert_exporter": "python",
   "pygments_lexer": "ipython2",
   "version": "2.7.6"
  }
 },
 "nbformat": 4,
 "nbformat_minor": 0
}